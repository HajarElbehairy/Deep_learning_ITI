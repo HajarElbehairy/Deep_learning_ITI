{
  "cells": [
    {
      "cell_type": "markdown",
      "source": [
        "$$ ITI \\space AI-Pro: \\space Intake \\space 45 $$\n",
        "$$ Deep \\space Learning $$\n",
        "$$ Lab \\space no. \\space 2 $$"
      ],
      "metadata": {
        "id": "Xba-oy4zCeri"
      },
      "id": "Xba-oy4zCeri"
    },
    {
      "cell_type": "markdown",
      "id": "b177f870",
      "metadata": {
        "id": "b177f870"
      },
      "source": [
        "# Introduction\n",
        "\n",
        "> Use the `keras` from Tensorflow to build ANN model that would fit the credit score data and be able to generalize well.\n",
        "\n",
        "Use the Credit Score Classification dataset provided [here](https://www.kaggle.com/datasets/parisrohan/credit-score-classification) to train and test your design.\n",
        "\n",
        "**Notes:**\n",
        "- Split the data as you see fit and use validation during training.\n",
        "- You may re-use the EDA, data preparation, and other sections you previously used in ML1 assignemnts.\n",
        "- Remember that you can use classification metrics from other libraries as well (e.g., `sklearn`)\n",
        "- Plot the loss, and accuracy against epochs and extract insights on how well of a fit your model is.\n",
        "- This time the notebook is not prepared with sections and instructions so that you can do it yourself.\n",
        "- If you are stuck, you can consult the [Keras User Guide](https://keras.io/api/). There are some useful [Code Examples](https://keras.io/examples/) as well.\n"
      ]
    },
    {
      "cell_type": "code",
      "source": [
        "import numpy as np\n",
        "import pandas as pd\n",
        "import re\n",
        "from sklearn.model_selection import train_test_split\n",
        "from sklearn.impute import KNNImputer,SimpleImputer\n",
        "from sklearn.preprocessing import OrdinalEncoder, OneHotEncoder\n",
        "from sklearn.preprocessing import LabelEncoder\n",
        "from sklearn.preprocessing import StandardScaler,RobustScaler\n",
        "from keras.callbacks import EarlyStopping\n",
        "from tensorflow import keras\n",
        "from keras import Sequential\n",
        "from keras.layers import Dense\n",
        "from keras import Input\n",
        "from keras.utils import set_random_seed\n",
        "from tensorflow.keras.utils import to_categorical"
      ],
      "metadata": {
        "id": "79ulMqI53XnF"
      },
      "id": "79ulMqI53XnF",
      "execution_count": 1,
      "outputs": []
    },
    {
      "cell_type": "code",
      "source": [
        "train = pd.read_csv('/content/train.csv')"
      ],
      "metadata": {
        "colab": {
          "base_uri": "https://localhost:8080/"
        },
        "id": "mNod982IEhPp",
        "outputId": "21083c1f-0866-491d-ce70-1aa7725a6778"
      },
      "id": "mNod982IEhPp",
      "execution_count": 2,
      "outputs": [
        {
          "output_type": "stream",
          "name": "stderr",
          "text": [
            "<ipython-input-2-e7bab7bf7086>:1: DtypeWarning: Columns (26) have mixed types. Specify dtype option on import or set low_memory=False.\n",
            "  train = pd.read_csv('/content/train.csv')\n"
          ]
        }
      ]
    },
    {
      "cell_type": "code",
      "source": [
        "train.info()"
      ],
      "metadata": {
        "colab": {
          "base_uri": "https://localhost:8080/"
        },
        "id": "0_zKfd32EhQo",
        "outputId": "cb2b4f80-404c-422b-dfef-3d8cfe12d689"
      },
      "id": "0_zKfd32EhQo",
      "execution_count": 3,
      "outputs": [
        {
          "output_type": "stream",
          "name": "stdout",
          "text": [
            "<class 'pandas.core.frame.DataFrame'>\n",
            "RangeIndex: 100000 entries, 0 to 99999\n",
            "Data columns (total 28 columns):\n",
            " #   Column                    Non-Null Count   Dtype  \n",
            "---  ------                    --------------   -----  \n",
            " 0   ID                        100000 non-null  object \n",
            " 1   Customer_ID               100000 non-null  object \n",
            " 2   Month                     100000 non-null  object \n",
            " 3   Name                      90015 non-null   object \n",
            " 4   Age                       100000 non-null  object \n",
            " 5   SSN                       100000 non-null  object \n",
            " 6   Occupation                100000 non-null  object \n",
            " 7   Annual_Income             100000 non-null  object \n",
            " 8   Monthly_Inhand_Salary     84998 non-null   float64\n",
            " 9   Num_Bank_Accounts         100000 non-null  int64  \n",
            " 10  Num_Credit_Card           100000 non-null  int64  \n",
            " 11  Interest_Rate             100000 non-null  int64  \n",
            " 12  Num_of_Loan               100000 non-null  object \n",
            " 13  Type_of_Loan              88592 non-null   object \n",
            " 14  Delay_from_due_date       100000 non-null  int64  \n",
            " 15  Num_of_Delayed_Payment    92998 non-null   object \n",
            " 16  Changed_Credit_Limit      100000 non-null  object \n",
            " 17  Num_Credit_Inquiries      98035 non-null   float64\n",
            " 18  Credit_Mix                100000 non-null  object \n",
            " 19  Outstanding_Debt          100000 non-null  object \n",
            " 20  Credit_Utilization_Ratio  100000 non-null  float64\n",
            " 21  Credit_History_Age        90970 non-null   object \n",
            " 22  Payment_of_Min_Amount     100000 non-null  object \n",
            " 23  Total_EMI_per_month       100000 non-null  float64\n",
            " 24  Amount_invested_monthly   95521 non-null   object \n",
            " 25  Payment_Behaviour         100000 non-null  object \n",
            " 26  Monthly_Balance           98800 non-null   object \n",
            " 27  Credit_Score              100000 non-null  object \n",
            "dtypes: float64(4), int64(4), object(20)\n",
            "memory usage: 21.4+ MB\n"
          ]
        }
      ]
    },
    {
      "cell_type": "code",
      "source": [
        "cols_to_convert = ['Age', 'Annual_Income', 'Num_of_Loan', 'Changed_Credit_Limit', 'Outstanding_Debt', 'Monthly_Balance','Num_of_Delayed_Payment',\"Amount_invested_monthly\"]\n",
        "for col in cols_to_convert:\n",
        "    train[col] = pd.to_numeric(train[col], errors='coerce')"
      ],
      "metadata": {
        "id": "4Pbh79e4EhVH"
      },
      "id": "4Pbh79e4EhVH",
      "execution_count": 4,
      "outputs": []
    },
    {
      "cell_type": "code",
      "source": [
        "def convert_to_months(text):\n",
        "    match = re.match(r\"(\\d+) Years? and (\\d+) Months?\", str(text))\n",
        "    if match:\n",
        "        years = int(match.group(1))\n",
        "        months = int(match.group(2))\n",
        "        return years * 12 + months\n",
        "    return None"
      ],
      "metadata": {
        "id": "9mObpmkyfvYe"
      },
      "id": "9mObpmkyfvYe",
      "execution_count": 5,
      "outputs": []
    },
    {
      "cell_type": "code",
      "source": [
        "train[\"Credit_History_Age\"] = train[\"Credit_History_Age\"].apply(convert_to_months)\n",
        "train[\"Credit_History_Age\"]"
      ],
      "metadata": {
        "colab": {
          "base_uri": "https://localhost:8080/",
          "height": 458
        },
        "id": "0GbXtw-ifxFi",
        "outputId": "1eb06dcd-1f99-42ad-9e1d-281268314896"
      },
      "id": "0GbXtw-ifxFi",
      "execution_count": 6,
      "outputs": [
        {
          "output_type": "execute_result",
          "data": {
            "text/plain": [
              "0        265.0\n",
              "1          NaN\n",
              "2        267.0\n",
              "3        268.0\n",
              "4        269.0\n",
              "         ...  \n",
              "99995    378.0\n",
              "99996    379.0\n",
              "99997    380.0\n",
              "99998    381.0\n",
              "99999    382.0\n",
              "Name: Credit_History_Age, Length: 100000, dtype: float64"
            ],
            "text/html": [
              "<div>\n",
              "<style scoped>\n",
              "    .dataframe tbody tr th:only-of-type {\n",
              "        vertical-align: middle;\n",
              "    }\n",
              "\n",
              "    .dataframe tbody tr th {\n",
              "        vertical-align: top;\n",
              "    }\n",
              "\n",
              "    .dataframe thead th {\n",
              "        text-align: right;\n",
              "    }\n",
              "</style>\n",
              "<table border=\"1\" class=\"dataframe\">\n",
              "  <thead>\n",
              "    <tr style=\"text-align: right;\">\n",
              "      <th></th>\n",
              "      <th>Credit_History_Age</th>\n",
              "    </tr>\n",
              "  </thead>\n",
              "  <tbody>\n",
              "    <tr>\n",
              "      <th>0</th>\n",
              "      <td>265.0</td>\n",
              "    </tr>\n",
              "    <tr>\n",
              "      <th>1</th>\n",
              "      <td>NaN</td>\n",
              "    </tr>\n",
              "    <tr>\n",
              "      <th>2</th>\n",
              "      <td>267.0</td>\n",
              "    </tr>\n",
              "    <tr>\n",
              "      <th>3</th>\n",
              "      <td>268.0</td>\n",
              "    </tr>\n",
              "    <tr>\n",
              "      <th>4</th>\n",
              "      <td>269.0</td>\n",
              "    </tr>\n",
              "    <tr>\n",
              "      <th>...</th>\n",
              "      <td>...</td>\n",
              "    </tr>\n",
              "    <tr>\n",
              "      <th>99995</th>\n",
              "      <td>378.0</td>\n",
              "    </tr>\n",
              "    <tr>\n",
              "      <th>99996</th>\n",
              "      <td>379.0</td>\n",
              "    </tr>\n",
              "    <tr>\n",
              "      <th>99997</th>\n",
              "      <td>380.0</td>\n",
              "    </tr>\n",
              "    <tr>\n",
              "      <th>99998</th>\n",
              "      <td>381.0</td>\n",
              "    </tr>\n",
              "    <tr>\n",
              "      <th>99999</th>\n",
              "      <td>382.0</td>\n",
              "    </tr>\n",
              "  </tbody>\n",
              "</table>\n",
              "<p>100000 rows × 1 columns</p>\n",
              "</div><br><label><b>dtype:</b> float64</label>"
            ]
          },
          "metadata": {},
          "execution_count": 6
        }
      ]
    },
    {
      "cell_type": "code",
      "source": [
        "train[\"Payment_Behaviour\"].replace(\"!@9#%8\",np.nan, inplace=True)"
      ],
      "metadata": {
        "colab": {
          "base_uri": "https://localhost:8080/"
        },
        "id": "aukFk5FEJtJX",
        "outputId": "943f20de-c65b-41d8-f6e4-df164b156444"
      },
      "id": "aukFk5FEJtJX",
      "execution_count": 7,
      "outputs": [
        {
          "output_type": "stream",
          "name": "stderr",
          "text": [
            "<ipython-input-7-f582c5e3d95f>:1: FutureWarning: A value is trying to be set on a copy of a DataFrame or Series through chained assignment using an inplace method.\n",
            "The behavior will change in pandas 3.0. This inplace method will never work because the intermediate object on which we are setting values always behaves as a copy.\n",
            "\n",
            "For example, when doing 'df[col].method(value, inplace=True)', try using 'df.method({col: value}, inplace=True)' or df[col] = df[col].method(value) instead, to perform the operation inplace on the original object.\n",
            "\n",
            "\n",
            "  train[\"Payment_Behaviour\"].replace(\"!@9#%8\",np.nan, inplace=True)\n"
          ]
        }
      ]
    },
    {
      "cell_type": "code",
      "source": [
        "train['Occupation'].replace(\"_______\", np.nan, inplace=True)"
      ],
      "metadata": {
        "colab": {
          "base_uri": "https://localhost:8080/"
        },
        "id": "LsMtOzvaJtIU",
        "outputId": "3af5930c-72f8-4a45-dcac-808f5b921c80"
      },
      "id": "LsMtOzvaJtIU",
      "execution_count": 8,
      "outputs": [
        {
          "output_type": "stream",
          "name": "stderr",
          "text": [
            "<ipython-input-8-ac2f9117a785>:1: FutureWarning: A value is trying to be set on a copy of a DataFrame or Series through chained assignment using an inplace method.\n",
            "The behavior will change in pandas 3.0. This inplace method will never work because the intermediate object on which we are setting values always behaves as a copy.\n",
            "\n",
            "For example, when doing 'df[col].method(value, inplace=True)', try using 'df.method({col: value}, inplace=True)' or df[col] = df[col].method(value) instead, to perform the operation inplace on the original object.\n",
            "\n",
            "\n",
            "  train['Occupation'].replace(\"_______\", np.nan, inplace=True)\n"
          ]
        }
      ]
    },
    {
      "cell_type": "code",
      "source": [
        "train['Payment_of_Min_Amount'].replace(\"NM\",np.nan,inplace=True)"
      ],
      "metadata": {
        "colab": {
          "base_uri": "https://localhost:8080/"
        },
        "id": "znGeuITSJtDh",
        "outputId": "22fd70f8-0629-47ec-8e13-30447a5dfa01"
      },
      "id": "znGeuITSJtDh",
      "execution_count": 9,
      "outputs": [
        {
          "output_type": "stream",
          "name": "stderr",
          "text": [
            "<ipython-input-9-5941a56fba33>:1: FutureWarning: A value is trying to be set on a copy of a DataFrame or Series through chained assignment using an inplace method.\n",
            "The behavior will change in pandas 3.0. This inplace method will never work because the intermediate object on which we are setting values always behaves as a copy.\n",
            "\n",
            "For example, when doing 'df[col].method(value, inplace=True)', try using 'df.method({col: value}, inplace=True)' or df[col] = df[col].method(value) instead, to perform the operation inplace on the original object.\n",
            "\n",
            "\n",
            "  train['Payment_of_Min_Amount'].replace(\"NM\",np.nan,inplace=True)\n"
          ]
        }
      ]
    },
    {
      "cell_type": "code",
      "source": [
        "train[\"Credit_Mix\"]=train[\"Credit_Mix\"].replace(\"_\",np.nan)"
      ],
      "metadata": {
        "id": "Q3p13YBjJtCd"
      },
      "id": "Q3p13YBjJtCd",
      "execution_count": 10,
      "outputs": []
    },
    {
      "cell_type": "code",
      "source": [
        "train.drop(columns=[\"ID\", \"Customer_ID\", \"SSN\",\"Type_of_Loan\",\"Name\"],inplace=True)"
      ],
      "metadata": {
        "id": "pwq7sP-ZKlO8"
      },
      "id": "pwq7sP-ZKlO8",
      "execution_count": 11,
      "outputs": []
    },
    {
      "cell_type": "code",
      "source": [
        "X=train.drop(\"Credit_Score\",axis=1)\n",
        "Y=train.Credit_Score"
      ],
      "metadata": {
        "id": "XzOOBg2mEhV-"
      },
      "id": "XzOOBg2mEhV-",
      "execution_count": 12,
      "outputs": []
    },
    {
      "cell_type": "code",
      "source": [
        "x_train,x_valid,y_train,y_valid=train_test_split(X,Y,test_size=0.15,random_state=123)"
      ],
      "metadata": {
        "id": "A1CqduwlEhai"
      },
      "id": "A1CqduwlEhai",
      "execution_count": 13,
      "outputs": []
    },
    {
      "cell_type": "code",
      "source": [
        "knn_imputer = KNNImputer(n_neighbors=5)\n",
        "numerical_cols = x_train.select_dtypes(exclude=[\"object\"]).columns\n",
        "x_train[numerical_cols] = knn_imputer.fit_transform(x_train[numerical_cols])"
      ],
      "metadata": {
        "id": "7Y3SssZGEhba"
      },
      "id": "7Y3SssZGEhba",
      "execution_count": 14,
      "outputs": []
    },
    {
      "cell_type": "code",
      "source": [
        "mode_imputer = SimpleImputer(strategy=\"most_frequent\")\n",
        "categorical_cols = [\"Credit_Mix\", \"Payment_of_Min_Amount\",\"Occupation\",\"Payment_Behaviour\"]\n",
        "x_train[categorical_cols] = mode_imputer.fit_transform(x_train[categorical_cols])"
      ],
      "metadata": {
        "id": "PDmxwReaEhgA"
      },
      "id": "PDmxwReaEhgA",
      "execution_count": 15,
      "outputs": []
    },
    {
      "cell_type": "code",
      "source": [
        "scaler = RobustScaler()\n",
        "x_train[numerical_cols]= scaler.fit_transform(x_train[numerical_cols])\n",
        "#scaling\n",
        "x_valid[numerical_cols]= scaler.transform(x_valid[numerical_cols])"
      ],
      "metadata": {
        "id": "C7j5jPAa9rKm"
      },
      "id": "C7j5jPAa9rKm",
      "execution_count": 16,
      "outputs": []
    },
    {
      "cell_type": "code",
      "source": [
        "# Features to be ordinally encoded\n",
        "ordinal_features = ['Credit_Mix', 'Payment_of_Min_Amount', 'Payment_Behaviour']\n",
        "\n",
        "# Features to be one-hot encoded\n",
        "onehot_features = ['Occupation',\"Month\"]"
      ],
      "metadata": {
        "id": "iln3_XAvEhg7"
      },
      "id": "iln3_XAvEhg7",
      "execution_count": 17,
      "outputs": []
    },
    {
      "cell_type": "code",
      "source": [
        "# Define ordinal categories\n",
        "credit_mix_order = ['Bad', 'Standard', 'Good']\n",
        "payment_min_order = ['NM', 'Yes', 'No']\n",
        "payment_behaviour_order = [\n",
        "    'High_spent_Small_value_payments',\n",
        "    'Low_spent_Small_value_payments',\n",
        "    'Low_spent_Medium_value_payments',\n",
        "    'High_spent_Medium_value_payments',\n",
        "    'Low_spent_Large_value_payments',\n",
        "    'High_spent_Large_value_payments',\n",
        "    'Other'  # Added missing category\n",
        "]\n",
        "\n",
        "# Features to be ordinally and one-hot encoded\n",
        "ordinal_features = ['Credit_Mix', 'Payment_of_Min_Amount', 'Payment_Behaviour']\n",
        "onehot_features = ['Occupation', \"Month\"]\n",
        "\n",
        "# Initialize encoders\n",
        "ordinal_encoder = OrdinalEncoder(categories=[credit_mix_order,\n",
        "                                             payment_min_order,\n",
        "                                             payment_behaviour_order])\n",
        "\n",
        "onehot_encoder = OneHotEncoder(sparse_output=False, handle_unknown='ignore')\n",
        "\n",
        "# Apply ordinal encoding\n",
        "x_train_ordinal = ordinal_encoder.fit_transform(x_train[ordinal_features])\n",
        "ordinal_df = pd.DataFrame(x_train_ordinal, columns=ordinal_features, index=x_train.index)\n",
        "\n",
        "# Apply one-hot encoding\n",
        "x_train_onehot = onehot_encoder.fit_transform(x_train[onehot_features])\n",
        "onehot_columns = onehot_encoder.get_feature_names_out(onehot_features)\n",
        "onehot_df = pd.DataFrame(x_train_onehot, columns=onehot_columns, index=x_train.index)\n",
        "\n",
        "# Combine all features\n",
        "x_train = x_train.drop(columns=ordinal_features + onehot_features)\n",
        "x_train = pd.concat([x_train, ordinal_df, onehot_df], axis=1)"
      ],
      "metadata": {
        "id": "TpkrRFibEhlh"
      },
      "id": "TpkrRFibEhlh",
      "execution_count": 18,
      "outputs": []
    },
    {
      "cell_type": "code",
      "source": [
        "x_valid[numerical_cols] = knn_imputer.transform(x_valid[numerical_cols])\n",
        "\n",
        "# Mode\n",
        "x_valid[categorical_cols] = mode_imputer.transform(x_valid[categorical_cols])\n",
        "x_valid_ordinal = ordinal_encoder.transform(x_valid[ordinal_features])\n",
        "ordinal_df = pd.DataFrame(x_valid_ordinal, columns=ordinal_features, index=x_valid.index)\n",
        "\n",
        "# Apply one-hot encoding\n",
        "x_valid_onehot = onehot_encoder.transform(x_valid[onehot_features])\n",
        "onehot_columns = onehot_encoder.get_feature_names_out(onehot_features)\n",
        "onehot_df = pd.DataFrame(x_valid_onehot, columns=onehot_columns, index=x_valid.index)\n",
        "\n",
        "# Combine all features\n",
        "x_valid = x_valid.drop(columns=ordinal_features + onehot_features)\n",
        "x_valid = pd.concat([x_valid, ordinal_df, onehot_df], axis=1)\n"
      ],
      "metadata": {
        "id": "tZTbUfqlEhmd"
      },
      "id": "tZTbUfqlEhmd",
      "execution_count": 19,
      "outputs": []
    },
    {
      "cell_type": "code",
      "source": [
        "y_train"
      ],
      "metadata": {
        "colab": {
          "base_uri": "https://localhost:8080/",
          "height": 458
        },
        "id": "Z4658sP-Mylx",
        "outputId": "5c0b65de-d90d-46a0-9435-d341fbea2660"
      },
      "id": "Z4658sP-Mylx",
      "execution_count": 20,
      "outputs": [
        {
          "output_type": "execute_result",
          "data": {
            "text/plain": [
              "67105        Good\n",
              "78945        Poor\n",
              "25231    Standard\n",
              "55380        Poor\n",
              "41975        Poor\n",
              "           ...   \n",
              "63206    Standard\n",
              "61404        Poor\n",
              "17730    Standard\n",
              "28030    Standard\n",
              "15725        Poor\n",
              "Name: Credit_Score, Length: 85000, dtype: object"
            ],
            "text/html": [
              "<div>\n",
              "<style scoped>\n",
              "    .dataframe tbody tr th:only-of-type {\n",
              "        vertical-align: middle;\n",
              "    }\n",
              "\n",
              "    .dataframe tbody tr th {\n",
              "        vertical-align: top;\n",
              "    }\n",
              "\n",
              "    .dataframe thead th {\n",
              "        text-align: right;\n",
              "    }\n",
              "</style>\n",
              "<table border=\"1\" class=\"dataframe\">\n",
              "  <thead>\n",
              "    <tr style=\"text-align: right;\">\n",
              "      <th></th>\n",
              "      <th>Credit_Score</th>\n",
              "    </tr>\n",
              "  </thead>\n",
              "  <tbody>\n",
              "    <tr>\n",
              "      <th>67105</th>\n",
              "      <td>Good</td>\n",
              "    </tr>\n",
              "    <tr>\n",
              "      <th>78945</th>\n",
              "      <td>Poor</td>\n",
              "    </tr>\n",
              "    <tr>\n",
              "      <th>25231</th>\n",
              "      <td>Standard</td>\n",
              "    </tr>\n",
              "    <tr>\n",
              "      <th>55380</th>\n",
              "      <td>Poor</td>\n",
              "    </tr>\n",
              "    <tr>\n",
              "      <th>41975</th>\n",
              "      <td>Poor</td>\n",
              "    </tr>\n",
              "    <tr>\n",
              "      <th>...</th>\n",
              "      <td>...</td>\n",
              "    </tr>\n",
              "    <tr>\n",
              "      <th>63206</th>\n",
              "      <td>Standard</td>\n",
              "    </tr>\n",
              "    <tr>\n",
              "      <th>61404</th>\n",
              "      <td>Poor</td>\n",
              "    </tr>\n",
              "    <tr>\n",
              "      <th>17730</th>\n",
              "      <td>Standard</td>\n",
              "    </tr>\n",
              "    <tr>\n",
              "      <th>28030</th>\n",
              "      <td>Standard</td>\n",
              "    </tr>\n",
              "    <tr>\n",
              "      <th>15725</th>\n",
              "      <td>Poor</td>\n",
              "    </tr>\n",
              "  </tbody>\n",
              "</table>\n",
              "<p>85000 rows × 1 columns</p>\n",
              "</div><br><label><b>dtype:</b> object</label>"
            ]
          },
          "metadata": {},
          "execution_count": 20
        }
      ]
    },
    {
      "cell_type": "code",
      "source": [
        "label_encoder = LabelEncoder()\n",
        "y_train_encoded = label_encoder.fit_transform(y_train)\n",
        "y_valid_encoded = label_encoder.transform(y_valid)\n",
        "\n",
        "# # Step 2: Convert integers to one-hot encoding\n",
        "y_train_categorical = to_categorical(y_train_encoded)\n",
        "y_valid_categorical = to_categorical(y_valid_encoded)\n",
        "\n"
      ],
      "metadata": {
        "id": "J27YIG1ohq_1"
      },
      "id": "J27YIG1ohq_1",
      "execution_count": 21,
      "outputs": []
    },
    {
      "cell_type": "markdown",
      "source": [
        "### Modeling"
      ],
      "metadata": {
        "id": "vPV6AmDZLbUm"
      },
      "id": "vPV6AmDZLbUm"
    },
    {
      "cell_type": "markdown",
      "source": [
        "##### trial_1"
      ],
      "metadata": {
        "id": "AUEuH99E6QdZ"
      },
      "id": "AUEuH99E6QdZ"
    },
    {
      "cell_type": "code",
      "source": [
        "model=Sequential()\n",
        "model.add(Dense(128,activation=\"relu\",input_shape=(x_train.shape[1],)))\n",
        "model.add(Dense(64,activation=\"relu\"))\n",
        "model.add(Dense(32,activation=\"relu\"))\n",
        "model.add(Dense(3, activation='softmax'))\n",
        "model.summary()\n"
      ],
      "metadata": {
        "colab": {
          "base_uri": "https://localhost:8080/",
          "height": 318
        },
        "id": "uxO6-_NjEhrf",
        "outputId": "7ee2cfec-7565-4c65-9894-4a602228b2c2"
      },
      "id": "uxO6-_NjEhrf",
      "execution_count": 22,
      "outputs": [
        {
          "output_type": "stream",
          "name": "stderr",
          "text": [
            "/usr/local/lib/python3.11/dist-packages/keras/src/layers/core/dense.py:87: UserWarning: Do not pass an `input_shape`/`input_dim` argument to a layer. When using Sequential models, prefer using an `Input(shape)` object as the first layer in the model instead.\n",
            "  super().__init__(activity_regularizer=activity_regularizer, **kwargs)\n"
          ]
        },
        {
          "output_type": "display_data",
          "data": {
            "text/plain": [
              "\u001b[1mModel: \"sequential\"\u001b[0m\n"
            ],
            "text/html": [
              "<pre style=\"white-space:pre;overflow-x:auto;line-height:normal;font-family:Menlo,'DejaVu Sans Mono',consolas,'Courier New',monospace\"><span style=\"font-weight: bold\">Model: \"sequential\"</span>\n",
              "</pre>\n"
            ]
          },
          "metadata": {}
        },
        {
          "output_type": "display_data",
          "data": {
            "text/plain": [
              "┏━━━━━━━━━━━━━━━━━━━━━━━━━━━━━━━━━━━━━━┳━━━━━━━━━━━━━━━━━━━━━━━━━━━━━┳━━━━━━━━━━━━━━━━━┓\n",
              "┃\u001b[1m \u001b[0m\u001b[1mLayer (type)                        \u001b[0m\u001b[1m \u001b[0m┃\u001b[1m \u001b[0m\u001b[1mOutput Shape               \u001b[0m\u001b[1m \u001b[0m┃\u001b[1m \u001b[0m\u001b[1m        Param #\u001b[0m\u001b[1m \u001b[0m┃\n",
              "┡━━━━━━━━━━━━━━━━━━━━━━━━━━━━━━━━━━━━━━╇━━━━━━━━━━━━━━━━━━━━━━━━━━━━━╇━━━━━━━━━━━━━━━━━┩\n",
              "│ dense (\u001b[38;5;33mDense\u001b[0m)                        │ (\u001b[38;5;45mNone\u001b[0m, \u001b[38;5;34m128\u001b[0m)                 │           \u001b[38;5;34m5,632\u001b[0m │\n",
              "├──────────────────────────────────────┼─────────────────────────────┼─────────────────┤\n",
              "│ dense_1 (\u001b[38;5;33mDense\u001b[0m)                      │ (\u001b[38;5;45mNone\u001b[0m, \u001b[38;5;34m64\u001b[0m)                  │           \u001b[38;5;34m8,256\u001b[0m │\n",
              "├──────────────────────────────────────┼─────────────────────────────┼─────────────────┤\n",
              "│ dense_2 (\u001b[38;5;33mDense\u001b[0m)                      │ (\u001b[38;5;45mNone\u001b[0m, \u001b[38;5;34m32\u001b[0m)                  │           \u001b[38;5;34m2,080\u001b[0m │\n",
              "├──────────────────────────────────────┼─────────────────────────────┼─────────────────┤\n",
              "│ dense_3 (\u001b[38;5;33mDense\u001b[0m)                      │ (\u001b[38;5;45mNone\u001b[0m, \u001b[38;5;34m3\u001b[0m)                   │              \u001b[38;5;34m99\u001b[0m │\n",
              "└──────────────────────────────────────┴─────────────────────────────┴─────────────────┘\n"
            ],
            "text/html": [
              "<pre style=\"white-space:pre;overflow-x:auto;line-height:normal;font-family:Menlo,'DejaVu Sans Mono',consolas,'Courier New',monospace\">┏━━━━━━━━━━━━━━━━━━━━━━━━━━━━━━━━━━━━━━┳━━━━━━━━━━━━━━━━━━━━━━━━━━━━━┳━━━━━━━━━━━━━━━━━┓\n",
              "┃<span style=\"font-weight: bold\"> Layer (type)                         </span>┃<span style=\"font-weight: bold\"> Output Shape                </span>┃<span style=\"font-weight: bold\">         Param # </span>┃\n",
              "┡━━━━━━━━━━━━━━━━━━━━━━━━━━━━━━━━━━━━━━╇━━━━━━━━━━━━━━━━━━━━━━━━━━━━━╇━━━━━━━━━━━━━━━━━┩\n",
              "│ dense (<span style=\"color: #0087ff; text-decoration-color: #0087ff\">Dense</span>)                        │ (<span style=\"color: #00d7ff; text-decoration-color: #00d7ff\">None</span>, <span style=\"color: #00af00; text-decoration-color: #00af00\">128</span>)                 │           <span style=\"color: #00af00; text-decoration-color: #00af00\">5,632</span> │\n",
              "├──────────────────────────────────────┼─────────────────────────────┼─────────────────┤\n",
              "│ dense_1 (<span style=\"color: #0087ff; text-decoration-color: #0087ff\">Dense</span>)                      │ (<span style=\"color: #00d7ff; text-decoration-color: #00d7ff\">None</span>, <span style=\"color: #00af00; text-decoration-color: #00af00\">64</span>)                  │           <span style=\"color: #00af00; text-decoration-color: #00af00\">8,256</span> │\n",
              "├──────────────────────────────────────┼─────────────────────────────┼─────────────────┤\n",
              "│ dense_2 (<span style=\"color: #0087ff; text-decoration-color: #0087ff\">Dense</span>)                      │ (<span style=\"color: #00d7ff; text-decoration-color: #00d7ff\">None</span>, <span style=\"color: #00af00; text-decoration-color: #00af00\">32</span>)                  │           <span style=\"color: #00af00; text-decoration-color: #00af00\">2,080</span> │\n",
              "├──────────────────────────────────────┼─────────────────────────────┼─────────────────┤\n",
              "│ dense_3 (<span style=\"color: #0087ff; text-decoration-color: #0087ff\">Dense</span>)                      │ (<span style=\"color: #00d7ff; text-decoration-color: #00d7ff\">None</span>, <span style=\"color: #00af00; text-decoration-color: #00af00\">3</span>)                   │              <span style=\"color: #00af00; text-decoration-color: #00af00\">99</span> │\n",
              "└──────────────────────────────────────┴─────────────────────────────┴─────────────────┘\n",
              "</pre>\n"
            ]
          },
          "metadata": {}
        },
        {
          "output_type": "display_data",
          "data": {
            "text/plain": [
              "\u001b[1m Total params: \u001b[0m\u001b[38;5;34m16,067\u001b[0m (62.76 KB)\n"
            ],
            "text/html": [
              "<pre style=\"white-space:pre;overflow-x:auto;line-height:normal;font-family:Menlo,'DejaVu Sans Mono',consolas,'Courier New',monospace\"><span style=\"font-weight: bold\"> Total params: </span><span style=\"color: #00af00; text-decoration-color: #00af00\">16,067</span> (62.76 KB)\n",
              "</pre>\n"
            ]
          },
          "metadata": {}
        },
        {
          "output_type": "display_data",
          "data": {
            "text/plain": [
              "\u001b[1m Trainable params: \u001b[0m\u001b[38;5;34m16,067\u001b[0m (62.76 KB)\n"
            ],
            "text/html": [
              "<pre style=\"white-space:pre;overflow-x:auto;line-height:normal;font-family:Menlo,'DejaVu Sans Mono',consolas,'Courier New',monospace\"><span style=\"font-weight: bold\"> Trainable params: </span><span style=\"color: #00af00; text-decoration-color: #00af00\">16,067</span> (62.76 KB)\n",
              "</pre>\n"
            ]
          },
          "metadata": {}
        },
        {
          "output_type": "display_data",
          "data": {
            "text/plain": [
              "\u001b[1m Non-trainable params: \u001b[0m\u001b[38;5;34m0\u001b[0m (0.00 B)\n"
            ],
            "text/html": [
              "<pre style=\"white-space:pre;overflow-x:auto;line-height:normal;font-family:Menlo,'DejaVu Sans Mono',consolas,'Courier New',monospace\"><span style=\"font-weight: bold\"> Non-trainable params: </span><span style=\"color: #00af00; text-decoration-color: #00af00\">0</span> (0.00 B)\n",
              "</pre>\n"
            ]
          },
          "metadata": {}
        }
      ]
    },
    {
      "cell_type": "code",
      "source": [
        "model.compile(keras.optimizers.Adam(0.001), loss=\"categorical_crossentropy\", metrics=[\"accuracy\", \"Precision\"])\n"
      ],
      "metadata": {
        "id": "5AtHp4WPEhsZ"
      },
      "id": "5AtHp4WPEhsZ",
      "execution_count": 23,
      "outputs": []
    },
    {
      "cell_type": "code",
      "source": [
        "history=model.fit(x_train, y_train_categorical, batch_size=32, epochs=15, validation_split=0.15)"
      ],
      "metadata": {
        "colab": {
          "base_uri": "https://localhost:8080/"
        },
        "id": "GSDT6c39EhxM",
        "outputId": "d08898e5-0b2e-44d4-a0e2-cf28fc3c6313"
      },
      "id": "GSDT6c39EhxM",
      "execution_count": 24,
      "outputs": [
        {
          "output_type": "stream",
          "name": "stdout",
          "text": [
            "Epoch 1/15\n",
            "\u001b[1m2258/2258\u001b[0m \u001b[32m━━━━━━━━━━━━━━━━━━━━\u001b[0m\u001b[37m\u001b[0m \u001b[1m12s\u001b[0m 4ms/step - Precision: 0.6415 - accuracy: 0.6062 - loss: 1.0303 - val_Precision: 0.7150 - val_accuracy: 0.6525 - val_loss: 0.7521\n",
            "Epoch 2/15\n",
            "\u001b[1m2258/2258\u001b[0m \u001b[32m━━━━━━━━━━━━━━━━━━━━\u001b[0m\u001b[37m\u001b[0m \u001b[1m6s\u001b[0m 3ms/step - Precision: 0.7241 - accuracy: 0.6621 - loss: 0.7351 - val_Precision: 0.7122 - val_accuracy: 0.6587 - val_loss: 0.7442\n",
            "Epoch 3/15\n",
            "\u001b[1m2258/2258\u001b[0m \u001b[32m━━━━━━━━━━━━━━━━━━━━\u001b[0m\u001b[37m\u001b[0m \u001b[1m7s\u001b[0m 3ms/step - Precision: 0.7036 - accuracy: 0.6667 - loss: 0.7223 - val_Precision: 0.6989 - val_accuracy: 0.6651 - val_loss: 0.7309\n",
            "Epoch 4/15\n",
            "\u001b[1m2258/2258\u001b[0m \u001b[32m━━━━━━━━━━━━━━━━━━━━\u001b[0m\u001b[37m\u001b[0m \u001b[1m6s\u001b[0m 3ms/step - Precision: 0.7086 - accuracy: 0.6744 - loss: 0.7116 - val_Precision: 0.7028 - val_accuracy: 0.6675 - val_loss: 0.7199\n",
            "Epoch 5/15\n",
            "\u001b[1m2258/2258\u001b[0m \u001b[32m━━━━━━━━━━━━━━━━━━━━\u001b[0m\u001b[37m\u001b[0m \u001b[1m10s\u001b[0m 3ms/step - Precision: 0.7145 - accuracy: 0.6805 - loss: 0.7005 - val_Precision: 0.7078 - val_accuracy: 0.6712 - val_loss: 0.7163\n",
            "Epoch 6/15\n",
            "\u001b[1m2258/2258\u001b[0m \u001b[32m━━━━━━━━━━━━━━━━━━━━\u001b[0m\u001b[37m\u001b[0m \u001b[1m10s\u001b[0m 3ms/step - Precision: 0.7115 - accuracy: 0.6797 - loss: 0.6949 - val_Precision: 0.6993 - val_accuracy: 0.6678 - val_loss: 0.7198\n",
            "Epoch 7/15\n",
            "\u001b[1m2258/2258\u001b[0m \u001b[32m━━━━━━━━━━━━━━━━━━━━\u001b[0m\u001b[37m\u001b[0m \u001b[1m7s\u001b[0m 3ms/step - Precision: 0.7111 - accuracy: 0.6805 - loss: 0.6950 - val_Precision: 0.7009 - val_accuracy: 0.6703 - val_loss: 0.7152\n",
            "Epoch 8/15\n",
            "\u001b[1m2258/2258\u001b[0m \u001b[32m━━━━━━━━━━━━━━━━━━━━\u001b[0m\u001b[37m\u001b[0m \u001b[1m6s\u001b[0m 3ms/step - Precision: 0.7168 - accuracy: 0.6870 - loss: 0.6821 - val_Precision: 0.7055 - val_accuracy: 0.6717 - val_loss: 0.7122\n",
            "Epoch 9/15\n",
            "\u001b[1m2258/2258\u001b[0m \u001b[32m━━━━━━━━━━━━━━━━━━━━\u001b[0m\u001b[37m\u001b[0m \u001b[1m10s\u001b[0m 3ms/step - Precision: 0.7195 - accuracy: 0.6872 - loss: 0.6804 - val_Precision: 0.6964 - val_accuracy: 0.6706 - val_loss: 0.7136\n",
            "Epoch 10/15\n",
            "\u001b[1m2258/2258\u001b[0m \u001b[32m━━━━━━━━━━━━━━━━━━━━\u001b[0m\u001b[37m\u001b[0m \u001b[1m7s\u001b[0m 3ms/step - Precision: 0.7185 - accuracy: 0.6901 - loss: 0.6717 - val_Precision: 0.6986 - val_accuracy: 0.6691 - val_loss: 0.7175\n",
            "Epoch 11/15\n",
            "\u001b[1m2258/2258\u001b[0m \u001b[32m━━━━━━━━━━━━━━━━━━━━\u001b[0m\u001b[37m\u001b[0m \u001b[1m6s\u001b[0m 3ms/step - Precision: 0.7207 - accuracy: 0.6901 - loss: 0.6692 - val_Precision: 0.7010 - val_accuracy: 0.6719 - val_loss: 0.7120\n",
            "Epoch 12/15\n",
            "\u001b[1m2258/2258\u001b[0m \u001b[32m━━━━━━━━━━━━━━━━━━━━\u001b[0m\u001b[37m\u001b[0m \u001b[1m10s\u001b[0m 3ms/step - Precision: 0.7202 - accuracy: 0.6914 - loss: 0.6647 - val_Precision: 0.6963 - val_accuracy: 0.6700 - val_loss: 0.7195\n",
            "Epoch 13/15\n",
            "\u001b[1m2258/2258\u001b[0m \u001b[32m━━━━━━━━━━━━━━━━━━━━\u001b[0m\u001b[37m\u001b[0m \u001b[1m11s\u001b[0m 3ms/step - Precision: 0.7242 - accuracy: 0.6966 - loss: 0.6566 - val_Precision: 0.7026 - val_accuracy: 0.6700 - val_loss: 0.7144\n",
            "Epoch 14/15\n",
            "\u001b[1m2258/2258\u001b[0m \u001b[32m━━━━━━━━━━━━━━━━━━━━\u001b[0m\u001b[37m\u001b[0m \u001b[1m10s\u001b[0m 3ms/step - Precision: 0.7257 - accuracy: 0.6982 - loss: 0.6529 - val_Precision: 0.6973 - val_accuracy: 0.6732 - val_loss: 0.7097\n",
            "Epoch 15/15\n",
            "\u001b[1m2258/2258\u001b[0m \u001b[32m━━━━━━━━━━━━━━━━━━━━\u001b[0m\u001b[37m\u001b[0m \u001b[1m7s\u001b[0m 3ms/step - Precision: 0.7311 - accuracy: 0.7048 - loss: 0.6412 - val_Precision: 0.6974 - val_accuracy: 0.6736 - val_loss: 0.7201\n"
          ]
        }
      ]
    },
    {
      "cell_type": "code",
      "source": [
        "model.evaluate(x_valid, y_valid_categorical)"
      ],
      "metadata": {
        "colab": {
          "base_uri": "https://localhost:8080/"
        },
        "id": "cswA6Vgc_l4H",
        "outputId": "43acd8c0-5e57-4079-ae6b-18bcb4acf1fa"
      },
      "id": "cswA6Vgc_l4H",
      "execution_count": 25,
      "outputs": [
        {
          "output_type": "stream",
          "name": "stdout",
          "text": [
            "\u001b[1m469/469\u001b[0m \u001b[32m━━━━━━━━━━━━━━━━━━━━\u001b[0m\u001b[37m\u001b[0m \u001b[1m2s\u001b[0m 3ms/step - Precision: 0.5768 - accuracy: 0.5679 - loss: 2.5758\n"
          ]
        },
        {
          "output_type": "execute_result",
          "data": {
            "text/plain": [
              "[2.5596699714660645, 0.5703999996185303, 0.579189658164978]"
            ]
          },
          "metadata": {},
          "execution_count": 25
        }
      ]
    },
    {
      "cell_type": "code",
      "source": [
        "import matplotlib.pyplot as plt\n",
        "\n",
        "# Extract accuracy and validation accuracy\n",
        "train_acc = history.history['accuracy']\n",
        "val_acc = history.history['val_accuracy']\n",
        "\n",
        "# Plot accuracy curves\n",
        "plt.figure(figsize=(8, 5))\n",
        "plt.plot(train_acc, label='Training Accuracy', color='blue')\n",
        "plt.plot(val_acc, label='Validation Accuracy', color='red')\n",
        "plt.xlabel('Epochs')\n",
        "plt.ylabel('Accuracy')\n",
        "plt.title('Model Accuracy over Epochs')\n",
        "plt.legend()\n",
        "plt.grid()\n",
        "plt.show()\n"
      ],
      "metadata": {
        "id": "PWM1JNRfqO7m",
        "outputId": "3986ed2b-f58b-4d7f-a249-6fbd54fa1544",
        "colab": {
          "base_uri": "https://localhost:8080/",
          "height": 487
        }
      },
      "id": "PWM1JNRfqO7m",
      "execution_count": 26,
      "outputs": [
        {
          "output_type": "display_data",
          "data": {
            "text/plain": [
              "<Figure size 800x500 with 1 Axes>"
            ],
            "image/png": "[encoded data removed]"
          },
          "metadata": {}
        }
      ]
    },
    {
      "cell_type": "markdown",
      "source": [
        "### Trial_2"
      ],
      "metadata": {
        "id": "V0Gt0gD3cLEr"
      },
      "id": "V0Gt0gD3cLEr"
    },
    {
      "cell_type": "code",
      "source": [
        "y_train_categorical = np.array(y_train_categorical)\n",
        "y_valid_categorical = np.array(y_valid_categorical)"
      ],
      "metadata": {
        "id": "4UboAlRaQnbB"
      },
      "id": "4UboAlRaQnbB",
      "execution_count": 27,
      "outputs": []
    },
    {
      "cell_type": "code",
      "source": [
        "model2=Sequential()\n",
        "model2.add(Dense(64,activation=\"relu\",input_shape=(x_train.shape[1],)))\n",
        "model2.add(Dense(32,activation=\"relu\"))\n",
        "model2.add(Dense(16,activation=\"relu\"))\n",
        "model2.add(Dense(3, activation='softmax'))\n",
        "model2.summary()"
      ],
      "metadata": {
        "colab": {
          "base_uri": "https://localhost:8080/",
          "height": 318
        },
        "id": "VcmYV7Q3cGVU",
        "outputId": "1dfa0c44-7381-40c8-c530-db228cea848f"
      },
      "id": "VcmYV7Q3cGVU",
      "execution_count": 28,
      "outputs": [
        {
          "output_type": "stream",
          "name": "stderr",
          "text": [
            "/usr/local/lib/python3.11/dist-packages/keras/src/layers/core/dense.py:87: UserWarning: Do not pass an `input_shape`/`input_dim` argument to a layer. When using Sequential models, prefer using an `Input(shape)` object as the first layer in the model instead.\n",
            "  super().__init__(activity_regularizer=activity_regularizer, **kwargs)\n"
          ]
        },
        {
          "output_type": "display_data",
          "data": {
            "text/plain": [
              "\u001b[1mModel: \"sequential_1\"\u001b[0m\n"
            ],
            "text/html": [
              "<pre style=\"white-space:pre;overflow-x:auto;line-height:normal;font-family:Menlo,'DejaVu Sans Mono',consolas,'Courier New',monospace\"><span style=\"font-weight: bold\">Model: \"sequential_1\"</span>\n",
              "</pre>\n"
            ]
          },
          "metadata": {}
        },
        {
          "output_type": "display_data",
          "data": {
            "text/plain": [
              "┏━━━━━━━━━━━━━━━━━━━━━━━━━━━━━━━━━━━━━━┳━━━━━━━━━━━━━━━━━━━━━━━━━━━━━┳━━━━━━━━━━━━━━━━━┓\n",
              "┃\u001b[1m \u001b[0m\u001b[1mLayer (type)                        \u001b[0m\u001b[1m \u001b[0m┃\u001b[1m \u001b[0m\u001b[1mOutput Shape               \u001b[0m\u001b[1m \u001b[0m┃\u001b[1m \u001b[0m\u001b[1m        Param #\u001b[0m\u001b[1m \u001b[0m┃\n",
              "┡━━━━━━━━━━━━━━━━━━━━━━━━━━━━━━━━━━━━━━╇━━━━━━━━━━━━━━━━━━━━━━━━━━━━━╇━━━━━━━━━━━━━━━━━┩\n",
              "│ dense_4 (\u001b[38;5;33mDense\u001b[0m)                      │ (\u001b[38;5;45mNone\u001b[0m, \u001b[38;5;34m64\u001b[0m)                  │           \u001b[38;5;34m2,816\u001b[0m │\n",
              "├──────────────────────────────────────┼─────────────────────────────┼─────────────────┤\n",
              "│ dense_5 (\u001b[38;5;33mDense\u001b[0m)                      │ (\u001b[38;5;45mNone\u001b[0m, \u001b[38;5;34m32\u001b[0m)                  │           \u001b[38;5;34m2,080\u001b[0m │\n",
              "├──────────────────────────────────────┼─────────────────────────────┼─────────────────┤\n",
              "│ dense_6 (\u001b[38;5;33mDense\u001b[0m)                      │ (\u001b[38;5;45mNone\u001b[0m, \u001b[38;5;34m16\u001b[0m)                  │             \u001b[38;5;34m528\u001b[0m │\n",
              "├──────────────────────────────────────┼─────────────────────────────┼─────────────────┤\n",
              "│ dense_7 (\u001b[38;5;33mDense\u001b[0m)                      │ (\u001b[38;5;45mNone\u001b[0m, \u001b[38;5;34m3\u001b[0m)                   │              \u001b[38;5;34m51\u001b[0m │\n",
              "└──────────────────────────────────────┴─────────────────────────────┴─────────────────┘\n"
            ],
            "text/html": [
              "<pre style=\"white-space:pre;overflow-x:auto;line-height:normal;font-family:Menlo,'DejaVu Sans Mono',consolas,'Courier New',monospace\">┏━━━━━━━━━━━━━━━━━━━━━━━━━━━━━━━━━━━━━━┳━━━━━━━━━━━━━━━━━━━━━━━━━━━━━┳━━━━━━━━━━━━━━━━━┓\n",
              "┃<span style=\"font-weight: bold\"> Layer (type)                         </span>┃<span style=\"font-weight: bold\"> Output Shape                </span>┃<span style=\"font-weight: bold\">         Param # </span>┃\n",
              "┡━━━━━━━━━━━━━━━━━━━━━━━━━━━━━━━━━━━━━━╇━━━━━━━━━━━━━━━━━━━━━━━━━━━━━╇━━━━━━━━━━━━━━━━━┩\n",
              "│ dense_4 (<span style=\"color: #0087ff; text-decoration-color: #0087ff\">Dense</span>)                      │ (<span style=\"color: #00d7ff; text-decoration-color: #00d7ff\">None</span>, <span style=\"color: #00af00; text-decoration-color: #00af00\">64</span>)                  │           <span style=\"color: #00af00; text-decoration-color: #00af00\">2,816</span> │\n",
              "├──────────────────────────────────────┼─────────────────────────────┼─────────────────┤\n",
              "│ dense_5 (<span style=\"color: #0087ff; text-decoration-color: #0087ff\">Dense</span>)                      │ (<span style=\"color: #00d7ff; text-decoration-color: #00d7ff\">None</span>, <span style=\"color: #00af00; text-decoration-color: #00af00\">32</span>)                  │           <span style=\"color: #00af00; text-decoration-color: #00af00\">2,080</span> │\n",
              "├──────────────────────────────────────┼─────────────────────────────┼─────────────────┤\n",
              "│ dense_6 (<span style=\"color: #0087ff; text-decoration-color: #0087ff\">Dense</span>)                      │ (<span style=\"color: #00d7ff; text-decoration-color: #00d7ff\">None</span>, <span style=\"color: #00af00; text-decoration-color: #00af00\">16</span>)                  │             <span style=\"color: #00af00; text-decoration-color: #00af00\">528</span> │\n",
              "├──────────────────────────────────────┼─────────────────────────────┼─────────────────┤\n",
              "│ dense_7 (<span style=\"color: #0087ff; text-decoration-color: #0087ff\">Dense</span>)                      │ (<span style=\"color: #00d7ff; text-decoration-color: #00d7ff\">None</span>, <span style=\"color: #00af00; text-decoration-color: #00af00\">3</span>)                   │              <span style=\"color: #00af00; text-decoration-color: #00af00\">51</span> │\n",
              "└──────────────────────────────────────┴─────────────────────────────┴─────────────────┘\n",
              "</pre>\n"
            ]
          },
          "metadata": {}
        },
        {
          "output_type": "display_data",
          "data": {
            "text/plain": [
              "\u001b[1m Total params: \u001b[0m\u001b[38;5;34m5,475\u001b[0m (21.39 KB)\n"
            ],
            "text/html": [
              "<pre style=\"white-space:pre;overflow-x:auto;line-height:normal;font-family:Menlo,'DejaVu Sans Mono',consolas,'Courier New',monospace\"><span style=\"font-weight: bold\"> Total params: </span><span style=\"color: #00af00; text-decoration-color: #00af00\">5,475</span> (21.39 KB)\n",
              "</pre>\n"
            ]
          },
          "metadata": {}
        },
        {
          "output_type": "display_data",
          "data": {
            "text/plain": [
              "\u001b[1m Trainable params: \u001b[0m\u001b[38;5;34m5,475\u001b[0m (21.39 KB)\n"
            ],
            "text/html": [
              "<pre style=\"white-space:pre;overflow-x:auto;line-height:normal;font-family:Menlo,'DejaVu Sans Mono',consolas,'Courier New',monospace\"><span style=\"font-weight: bold\"> Trainable params: </span><span style=\"color: #00af00; text-decoration-color: #00af00\">5,475</span> (21.39 KB)\n",
              "</pre>\n"
            ]
          },
          "metadata": {}
        },
        {
          "output_type": "display_data",
          "data": {
            "text/plain": [
              "\u001b[1m Non-trainable params: \u001b[0m\u001b[38;5;34m0\u001b[0m (0.00 B)\n"
            ],
            "text/html": [
              "<pre style=\"white-space:pre;overflow-x:auto;line-height:normal;font-family:Menlo,'DejaVu Sans Mono',consolas,'Courier New',monospace\"><span style=\"font-weight: bold\"> Non-trainable params: </span><span style=\"color: #00af00; text-decoration-color: #00af00\">0</span> (0.00 B)\n",
              "</pre>\n"
            ]
          },
          "metadata": {}
        }
      ]
    },
    {
      "cell_type": "code",
      "source": [
        "model2.compile(keras.optimizers.Adam(0.00001), loss=\"categorical_crossentropy\", metrics=[\"accuracy\", \"Precision\"])\n"
      ],
      "metadata": {
        "id": "FHE_ZwUocGTn"
      },
      "id": "FHE_ZwUocGTn",
      "execution_count": 29,
      "outputs": []
    },
    {
      "cell_type": "code",
      "source": [
        "print(\"Original x shape:\", x_train.shape)\n",
        "print(\"Original y shape:\", y_train_categorical.shape)"
      ],
      "metadata": {
        "id": "GpFuwaoticGj",
        "outputId": "c850b3db-13ab-46d9-ab29-e16dba8ab6fa",
        "colab": {
          "base_uri": "https://localhost:8080/"
        }
      },
      "id": "GpFuwaoticGj",
      "execution_count": 30,
      "outputs": [
        {
          "output_type": "stream",
          "name": "stdout",
          "text": [
            "Original x shape: (85000, 43)\n",
            "Original y shape: (85000, 3)\n"
          ]
        }
      ]
    },
    {
      "cell_type": "code",
      "source": [
        "history2=model2.fit(x_train, y_train_categorical, batch_size=32, epochs=15, validation_data=(x_valid, y_valid_categorical))"
      ],
      "metadata": {
        "colab": {
          "base_uri": "https://localhost:8080/"
        },
        "id": "_0OHG0QZcGM4",
        "outputId": "79b18280-81af-4dd1-9b94-c27e7e929032"
      },
      "id": "_0OHG0QZcGM4",
      "execution_count": 31,
      "outputs": [
        {
          "output_type": "stream",
          "name": "stdout",
          "text": [
            "Epoch 1/15\n",
            "\u001b[1m2657/2657\u001b[0m \u001b[32m━━━━━━━━━━━━━━━━━━━━\u001b[0m\u001b[37m\u001b[0m \u001b[1m13s\u001b[0m 4ms/step - Precision: 0.4445 - accuracy: 0.3857 - loss: 1.9128 - val_Precision: 0.4728 - val_accuracy: 0.4751 - val_loss: 113.8977\n",
            "Epoch 2/15\n",
            "\u001b[1m2657/2657\u001b[0m \u001b[32m━━━━━━━━━━━━━━━━━━━━\u001b[0m\u001b[37m\u001b[0m \u001b[1m18s\u001b[0m 3ms/step - Precision: 0.5348 - accuracy: 0.5139 - loss: 1.1299 - val_Precision: 0.5336 - val_accuracy: 0.5259 - val_loss: 25.4711\n",
            "Epoch 3/15\n",
            "\u001b[1m2657/2657\u001b[0m \u001b[32m━━━━━━━━━━━━━━━━━━━━\u001b[0m\u001b[37m\u001b[0m \u001b[1m9s\u001b[0m 3ms/step - Precision: 0.5617 - accuracy: 0.5374 - loss: 1.0508 - val_Precision: 0.5447 - val_accuracy: 0.5326 - val_loss: 25.9769\n",
            "Epoch 4/15\n",
            "\u001b[1m2657/2657\u001b[0m \u001b[32m━━━━━━━━━━━━━━━━━━━━\u001b[0m\u001b[37m\u001b[0m \u001b[1m8s\u001b[0m 3ms/step - Precision: 0.5781 - accuracy: 0.5480 - loss: 1.0160 - val_Precision: 0.5528 - val_accuracy: 0.5401 - val_loss: 22.9574\n",
            "Epoch 5/15\n",
            "\u001b[1m2657/2657\u001b[0m \u001b[32m━━━━━━━━━━━━━━━━━━━━\u001b[0m\u001b[37m\u001b[0m \u001b[1m10s\u001b[0m 3ms/step - Precision: 0.5881 - accuracy: 0.5576 - loss: 0.9801 - val_Precision: 0.5576 - val_accuracy: 0.5457 - val_loss: 23.8725\n",
            "Epoch 6/15\n",
            "\u001b[1m2657/2657\u001b[0m \u001b[32m━━━━━━━━━━━━━━━━━━━━\u001b[0m\u001b[37m\u001b[0m \u001b[1m10s\u001b[0m 3ms/step - Precision: 0.5919 - accuracy: 0.5646 - loss: 0.9591 - val_Precision: 0.5631 - val_accuracy: 0.5495 - val_loss: 25.9182\n",
            "Epoch 7/15\n",
            "\u001b[1m2657/2657\u001b[0m \u001b[32m━━━━━━━━━━━━━━━━━━━━\u001b[0m\u001b[37m\u001b[0m \u001b[1m10s\u001b[0m 3ms/step - Precision: 0.6036 - accuracy: 0.5777 - loss: 0.9330 - val_Precision: 0.5644 - val_accuracy: 0.5534 - val_loss: 22.4344\n",
            "Epoch 8/15\n",
            "\u001b[1m2657/2657\u001b[0m \u001b[32m━━━━━━━━━━━━━━━━━━━━\u001b[0m\u001b[37m\u001b[0m \u001b[1m8s\u001b[0m 3ms/step - Precision: 0.6131 - accuracy: 0.5862 - loss: 0.9145 - val_Precision: 0.5670 - val_accuracy: 0.5549 - val_loss: 22.0327\n",
            "Epoch 9/15\n",
            "\u001b[1m2657/2657\u001b[0m \u001b[32m━━━━━━━━━━━━━━━━━━━━\u001b[0m\u001b[37m\u001b[0m \u001b[1m10s\u001b[0m 3ms/step - Precision: 0.6211 - accuracy: 0.5920 - loss: 0.9003 - val_Precision: 0.5381 - val_accuracy: 0.5307 - val_loss: 21.8946\n",
            "Epoch 10/15\n",
            "\u001b[1m2657/2657\u001b[0m \u001b[32m━━━━━━━━━━━━━━━━━━━━\u001b[0m\u001b[37m\u001b[0m \u001b[1m11s\u001b[0m 3ms/step - Precision: 0.6302 - accuracy: 0.5969 - loss: 0.8798 - val_Precision: 0.5446 - val_accuracy: 0.5340 - val_loss: 19.6844\n",
            "Epoch 11/15\n",
            "\u001b[1m2657/2657\u001b[0m \u001b[32m━━━━━━━━━━━━━━━━━━━━\u001b[0m\u001b[37m\u001b[0m \u001b[1m10s\u001b[0m 3ms/step - Precision: 0.6338 - accuracy: 0.5995 - loss: 0.8715 - val_Precision: 0.5454 - val_accuracy: 0.5335 - val_loss: 20.8991\n",
            "Epoch 12/15\n",
            "\u001b[1m2657/2657\u001b[0m \u001b[32m━━━━━━━━━━━━━━━━━━━━\u001b[0m\u001b[37m\u001b[0m \u001b[1m9s\u001b[0m 3ms/step - Precision: 0.6395 - accuracy: 0.6028 - loss: 0.8677 - val_Precision: 0.5529 - val_accuracy: 0.5392 - val_loss: 19.4765\n",
            "Epoch 13/15\n",
            "\u001b[1m2657/2657\u001b[0m \u001b[32m━━━━━━━━━━━━━━━━━━━━\u001b[0m\u001b[37m\u001b[0m \u001b[1m9s\u001b[0m 3ms/step - Precision: 0.6466 - accuracy: 0.6107 - loss: 0.8544 - val_Precision: 0.5506 - val_accuracy: 0.5353 - val_loss: 20.5762\n",
            "Epoch 14/15\n",
            "\u001b[1m2657/2657\u001b[0m \u001b[32m━━━━━━━━━━━━━━━━━━━━\u001b[0m\u001b[37m\u001b[0m \u001b[1m8s\u001b[0m 3ms/step - Precision: 0.6503 - accuracy: 0.6128 - loss: 0.8480 - val_Precision: 0.5533 - val_accuracy: 0.5391 - val_loss: 20.4120\n",
            "Epoch 15/15\n",
            "\u001b[1m2657/2657\u001b[0m \u001b[32m━━━━━━━━━━━━━━━━━━━━\u001b[0m\u001b[37m\u001b[0m \u001b[1m10s\u001b[0m 3ms/step - Precision: 0.6527 - accuracy: 0.6169 - loss: 0.8401 - val_Precision: 0.5656 - val_accuracy: 0.5499 - val_loss: 19.4367\n"
          ]
        }
      ]
    },
    {
      "cell_type": "code",
      "source": [
        "import matplotlib.pyplot as plt\n",
        "\n",
        "# Extract accuracy and validation accuracy\n",
        "train_acc = history2.history['accuracy']\n",
        "val_acc = history2.history['val_accuracy']\n",
        "\n",
        "# Plot accuracy curves\n",
        "plt.figure(figsize=(8, 5))\n",
        "plt.plot(train_acc, label='Training Accuracy', color='blue')\n",
        "plt.plot(val_acc, label='Validation Accuracy', color='red')\n",
        "plt.xlabel('Epochs')\n",
        "plt.ylabel('Accuracy')\n",
        "plt.title('Model Accuracy over Epochs')\n",
        "plt.legend()\n",
        "plt.grid()\n",
        "plt.show()\n"
      ],
      "metadata": {
        "colab": {
          "base_uri": "https://localhost:8080/",
          "height": 487
        },
        "id": "C9kOjaF5p8rq",
        "outputId": "5fb56417-8818-47bf-96d8-365806439ab2"
      },
      "id": "C9kOjaF5p8rq",
      "execution_count": 32,
      "outputs": [
        {
          "output_type": "display_data",
          "data": {
            "text/plain": [
              "<Figure size 800x500 with 1 Axes>"
            ],
            "image/png": "[encoded data removed]"
          },
          "metadata": {}
        }
      ]
    },
    {
      "cell_type": "markdown",
      "source": [
        "##### trial_3"
      ],
      "metadata": {
        "id": "N2rwKbo76U67"
      },
      "id": "N2rwKbo76U67"
    },
    {
      "cell_type": "code",
      "source": [
        "model3=Sequential()\n",
        "model3.add(Dense(128,activation=\"relu\",input_shape=(x_train.shape[1],)))\n",
        "model3.add(Dense(64,activation=\"relu\"))\n",
        "model3.add(Dense(32,activation=\"relu\"))\n",
        "model3.add(Dense(3, activation='softmax'))\n",
        "model3.summary()\n"
      ],
      "metadata": {
        "colab": {
          "base_uri": "https://localhost:8080/",
          "height": 318
        },
        "id": "Zwd-RAbLEiIq",
        "outputId": "9a3a18d3-cf01-45d9-fad6-753848d7d4c8"
      },
      "id": "Zwd-RAbLEiIq",
      "execution_count": 33,
      "outputs": [
        {
          "output_type": "stream",
          "name": "stderr",
          "text": [
            "/usr/local/lib/python3.11/dist-packages/keras/src/layers/core/dense.py:87: UserWarning: Do not pass an `input_shape`/`input_dim` argument to a layer. When using Sequential models, prefer using an `Input(shape)` object as the first layer in the model instead.\n",
            "  super().__init__(activity_regularizer=activity_regularizer, **kwargs)\n"
          ]
        },
        {
          "output_type": "display_data",
          "data": {
            "text/plain": [
              "\u001b[1mModel: \"sequential_2\"\u001b[0m\n"
            ],
            "text/html": [
              "<pre style=\"white-space:pre;overflow-x:auto;line-height:normal;font-family:Menlo,'DejaVu Sans Mono',consolas,'Courier New',monospace\"><span style=\"font-weight: bold\">Model: \"sequential_2\"</span>\n",
              "</pre>\n"
            ]
          },
          "metadata": {}
        },
        {
          "output_type": "display_data",
          "data": {
            "text/plain": [
              "┏━━━━━━━━━━━━━━━━━━━━━━━━━━━━━━━━━━━━━━┳━━━━━━━━━━━━━━━━━━━━━━━━━━━━━┳━━━━━━━━━━━━━━━━━┓\n",
              "┃\u001b[1m \u001b[0m\u001b[1mLayer (type)                        \u001b[0m\u001b[1m \u001b[0m┃\u001b[1m \u001b[0m\u001b[1mOutput Shape               \u001b[0m\u001b[1m \u001b[0m┃\u001b[1m \u001b[0m\u001b[1m        Param #\u001b[0m\u001b[1m \u001b[0m┃\n",
              "┡━━━━━━━━━━━━━━━━━━━━━━━━━━━━━━━━━━━━━━╇━━━━━━━━━━━━━━━━━━━━━━━━━━━━━╇━━━━━━━━━━━━━━━━━┩\n",
              "│ dense_8 (\u001b[38;5;33mDense\u001b[0m)                      │ (\u001b[38;5;45mNone\u001b[0m, \u001b[38;5;34m128\u001b[0m)                 │           \u001b[38;5;34m5,632\u001b[0m │\n",
              "├──────────────────────────────────────┼─────────────────────────────┼─────────────────┤\n",
              "│ dense_9 (\u001b[38;5;33mDense\u001b[0m)                      │ (\u001b[38;5;45mNone\u001b[0m, \u001b[38;5;34m64\u001b[0m)                  │           \u001b[38;5;34m8,256\u001b[0m │\n",
              "├──────────────────────────────────────┼─────────────────────────────┼─────────────────┤\n",
              "│ dense_10 (\u001b[38;5;33mDense\u001b[0m)                     │ (\u001b[38;5;45mNone\u001b[0m, \u001b[38;5;34m32\u001b[0m)                  │           \u001b[38;5;34m2,080\u001b[0m │\n",
              "├──────────────────────────────────────┼─────────────────────────────┼─────────────────┤\n",
              "│ dense_11 (\u001b[38;5;33mDense\u001b[0m)                     │ (\u001b[38;5;45mNone\u001b[0m, \u001b[38;5;34m3\u001b[0m)                   │              \u001b[38;5;34m99\u001b[0m │\n",
              "└──────────────────────────────────────┴─────────────────────────────┴─────────────────┘\n"
            ],
            "text/html": [
              "<pre style=\"white-space:pre;overflow-x:auto;line-height:normal;font-family:Menlo,'DejaVu Sans Mono',consolas,'Courier New',monospace\">┏━━━━━━━━━━━━━━━━━━━━━━━━━━━━━━━━━━━━━━┳━━━━━━━━━━━━━━━━━━━━━━━━━━━━━┳━━━━━━━━━━━━━━━━━┓\n",
              "┃<span style=\"font-weight: bold\"> Layer (type)                         </span>┃<span style=\"font-weight: bold\"> Output Shape                </span>┃<span style=\"font-weight: bold\">         Param # </span>┃\n",
              "┡━━━━━━━━━━━━━━━━━━━━━━━━━━━━━━━━━━━━━━╇━━━━━━━━━━━━━━━━━━━━━━━━━━━━━╇━━━━━━━━━━━━━━━━━┩\n",
              "│ dense_8 (<span style=\"color: #0087ff; text-decoration-color: #0087ff\">Dense</span>)                      │ (<span style=\"color: #00d7ff; text-decoration-color: #00d7ff\">None</span>, <span style=\"color: #00af00; text-decoration-color: #00af00\">128</span>)                 │           <span style=\"color: #00af00; text-decoration-color: #00af00\">5,632</span> │\n",
              "├──────────────────────────────────────┼─────────────────────────────┼─────────────────┤\n",
              "│ dense_9 (<span style=\"color: #0087ff; text-decoration-color: #0087ff\">Dense</span>)                      │ (<span style=\"color: #00d7ff; text-decoration-color: #00d7ff\">None</span>, <span style=\"color: #00af00; text-decoration-color: #00af00\">64</span>)                  │           <span style=\"color: #00af00; text-decoration-color: #00af00\">8,256</span> │\n",
              "├──────────────────────────────────────┼─────────────────────────────┼─────────────────┤\n",
              "│ dense_10 (<span style=\"color: #0087ff; text-decoration-color: #0087ff\">Dense</span>)                     │ (<span style=\"color: #00d7ff; text-decoration-color: #00d7ff\">None</span>, <span style=\"color: #00af00; text-decoration-color: #00af00\">32</span>)                  │           <span style=\"color: #00af00; text-decoration-color: #00af00\">2,080</span> │\n",
              "├──────────────────────────────────────┼─────────────────────────────┼─────────────────┤\n",
              "│ dense_11 (<span style=\"color: #0087ff; text-decoration-color: #0087ff\">Dense</span>)                     │ (<span style=\"color: #00d7ff; text-decoration-color: #00d7ff\">None</span>, <span style=\"color: #00af00; text-decoration-color: #00af00\">3</span>)                   │              <span style=\"color: #00af00; text-decoration-color: #00af00\">99</span> │\n",
              "└──────────────────────────────────────┴─────────────────────────────┴─────────────────┘\n",
              "</pre>\n"
            ]
          },
          "metadata": {}
        },
        {
          "output_type": "display_data",
          "data": {
            "text/plain": [
              "\u001b[1m Total params: \u001b[0m\u001b[38;5;34m16,067\u001b[0m (62.76 KB)\n"
            ],
            "text/html": [
              "<pre style=\"white-space:pre;overflow-x:auto;line-height:normal;font-family:Menlo,'DejaVu Sans Mono',consolas,'Courier New',monospace\"><span style=\"font-weight: bold\"> Total params: </span><span style=\"color: #00af00; text-decoration-color: #00af00\">16,067</span> (62.76 KB)\n",
              "</pre>\n"
            ]
          },
          "metadata": {}
        },
        {
          "output_type": "display_data",
          "data": {
            "text/plain": [
              "\u001b[1m Trainable params: \u001b[0m\u001b[38;5;34m16,067\u001b[0m (62.76 KB)\n"
            ],
            "text/html": [
              "<pre style=\"white-space:pre;overflow-x:auto;line-height:normal;font-family:Menlo,'DejaVu Sans Mono',consolas,'Courier New',monospace\"><span style=\"font-weight: bold\"> Trainable params: </span><span style=\"color: #00af00; text-decoration-color: #00af00\">16,067</span> (62.76 KB)\n",
              "</pre>\n"
            ]
          },
          "metadata": {}
        },
        {
          "output_type": "display_data",
          "data": {
            "text/plain": [
              "\u001b[1m Non-trainable params: \u001b[0m\u001b[38;5;34m0\u001b[0m (0.00 B)\n"
            ],
            "text/html": [
              "<pre style=\"white-space:pre;overflow-x:auto;line-height:normal;font-family:Menlo,'DejaVu Sans Mono',consolas,'Courier New',monospace\"><span style=\"font-weight: bold\"> Non-trainable params: </span><span style=\"color: #00af00; text-decoration-color: #00af00\">0</span> (0.00 B)\n",
              "</pre>\n"
            ]
          },
          "metadata": {}
        }
      ]
    },
    {
      "cell_type": "code",
      "source": [
        "model3.compile(keras.optimizers.RMSprop(0.001), loss=\"categorical_crossentropy\", metrics=[\"accuracy\", \"Precision\"])\n"
      ],
      "metadata": {
        "id": "pWBJoWF4EiJp"
      },
      "id": "pWBJoWF4EiJp",
      "execution_count": 34,
      "outputs": []
    },
    {
      "cell_type": "code",
      "source": [
        "history3=model3.fit(x_train, y_train_categorical, batch_size=64, epochs=15, validation_split=0.15)"
      ],
      "metadata": {
        "colab": {
          "base_uri": "https://localhost:8080/"
        },
        "id": "3w1MJPuNEiO8",
        "outputId": "6862b5fd-345c-43c4-a799-05c8c0ab4a5d"
      },
      "id": "3w1MJPuNEiO8",
      "execution_count": 35,
      "outputs": [
        {
          "output_type": "stream",
          "name": "stdout",
          "text": [
            "Epoch 1/15\n",
            "\u001b[1m1129/1129\u001b[0m \u001b[32m━━━━━━━━━━━━━━━━━━━━\u001b[0m\u001b[37m\u001b[0m \u001b[1m7s\u001b[0m 5ms/step - Precision: 0.6180 - accuracy: 0.5875 - loss: 1.1169 - val_Precision: 0.6899 - val_accuracy: 0.6471 - val_loss: 0.7665\n",
            "Epoch 2/15\n",
            "\u001b[1m1129/1129\u001b[0m \u001b[32m━━━━━━━━━━━━━━━━━━━━\u001b[0m\u001b[37m\u001b[0m \u001b[1m4s\u001b[0m 3ms/step - Precision: 0.7055 - accuracy: 0.6551 - loss: 0.7487 - val_Precision: 0.7125 - val_accuracy: 0.6555 - val_loss: 0.7422\n",
            "Epoch 3/15\n",
            "\u001b[1m1129/1129\u001b[0m \u001b[32m━━━━━━━━━━━━━━━━━━━━\u001b[0m\u001b[37m\u001b[0m \u001b[1m5s\u001b[0m 3ms/step - Precision: 0.7156 - accuracy: 0.6678 - loss: 0.7274 - val_Precision: 0.7322 - val_accuracy: 0.6653 - val_loss: 0.7327\n",
            "Epoch 4/15\n",
            "\u001b[1m1129/1129\u001b[0m \u001b[32m━━━━━━━━━━━━━━━━━━━━\u001b[0m\u001b[37m\u001b[0m \u001b[1m6s\u001b[0m 4ms/step - Precision: 0.7201 - accuracy: 0.6721 - loss: 0.7164 - val_Precision: 0.7322 - val_accuracy: 0.6683 - val_loss: 0.7213\n",
            "Epoch 5/15\n",
            "\u001b[1m1129/1129\u001b[0m \u001b[32m━━━━━━━━━━━━━━━━━━━━\u001b[0m\u001b[37m\u001b[0m \u001b[1m4s\u001b[0m 3ms/step - Precision: 0.7254 - accuracy: 0.6777 - loss: 0.7043 - val_Precision: 0.7194 - val_accuracy: 0.6733 - val_loss: 0.7155\n",
            "Epoch 6/15\n",
            "\u001b[1m1129/1129\u001b[0m \u001b[32m━━━━━━━━━━━━━━━━━━━━\u001b[0m\u001b[37m\u001b[0m \u001b[1m3s\u001b[0m 3ms/step - Precision: 0.7229 - accuracy: 0.6784 - loss: 0.7031 - val_Precision: 0.7095 - val_accuracy: 0.6728 - val_loss: 0.7165\n",
            "Epoch 7/15\n",
            "\u001b[1m1129/1129\u001b[0m \u001b[32m━━━━━━━━━━━━━━━━━━━━\u001b[0m\u001b[37m\u001b[0m \u001b[1m6s\u001b[0m 3ms/step - Precision: 0.7240 - accuracy: 0.6841 - loss: 0.6929 - val_Precision: 0.7060 - val_accuracy: 0.6700 - val_loss: 0.7121\n",
            "Epoch 8/15\n",
            "\u001b[1m1129/1129\u001b[0m \u001b[32m━━━━━━━━━━━━━━━━━━━━\u001b[0m\u001b[37m\u001b[0m \u001b[1m5s\u001b[0m 3ms/step - Precision: 0.7237 - accuracy: 0.6852 - loss: 0.6901 - val_Precision: 0.7022 - val_accuracy: 0.6708 - val_loss: 0.7196\n",
            "Epoch 9/15\n",
            "\u001b[1m1129/1129\u001b[0m \u001b[32m━━━━━━━━━━━━━━━━━━━━\u001b[0m\u001b[37m\u001b[0m \u001b[1m6s\u001b[0m 3ms/step - Precision: 0.7242 - accuracy: 0.6838 - loss: 0.6870 - val_Precision: 0.7187 - val_accuracy: 0.6778 - val_loss: 0.7045\n",
            "Epoch 10/15\n",
            "\u001b[1m1129/1129\u001b[0m \u001b[32m━━━━━━━━━━━━━━━━━━━━\u001b[0m\u001b[37m\u001b[0m \u001b[1m4s\u001b[0m 3ms/step - Precision: 0.7267 - accuracy: 0.6843 - loss: 0.6861 - val_Precision: 0.7045 - val_accuracy: 0.6723 - val_loss: 0.7176\n",
            "Epoch 11/15\n",
            "\u001b[1m1129/1129\u001b[0m \u001b[32m━━━━━━━━━━━━━━━━━━━━\u001b[0m\u001b[37m\u001b[0m \u001b[1m5s\u001b[0m 3ms/step - Precision: 0.7229 - accuracy: 0.6854 - loss: 0.6823 - val_Precision: 0.7016 - val_accuracy: 0.6716 - val_loss: 0.7135\n",
            "Epoch 12/15\n",
            "\u001b[1m1129/1129\u001b[0m \u001b[32m━━━━━━━━━━━━━━━━━━━━\u001b[0m\u001b[37m\u001b[0m \u001b[1m4s\u001b[0m 3ms/step - Precision: 0.7282 - accuracy: 0.6901 - loss: 0.6774 - val_Precision: 0.7157 - val_accuracy: 0.6783 - val_loss: 0.7010\n",
            "Epoch 13/15\n",
            "\u001b[1m1129/1129\u001b[0m \u001b[32m━━━━━━━━━━━━━━━━━━━━\u001b[0m\u001b[37m\u001b[0m \u001b[1m3s\u001b[0m 3ms/step - Precision: 0.7303 - accuracy: 0.6945 - loss: 0.6727 - val_Precision: 0.7205 - val_accuracy: 0.6768 - val_loss: 0.7100\n",
            "Epoch 14/15\n",
            "\u001b[1m1129/1129\u001b[0m \u001b[32m━━━━━━━━━━━━━━━━━━━━\u001b[0m\u001b[37m\u001b[0m \u001b[1m5s\u001b[0m 3ms/step - Precision: 0.7292 - accuracy: 0.6894 - loss: 0.6755 - val_Precision: 0.7122 - val_accuracy: 0.6729 - val_loss: 0.7089\n",
            "Epoch 15/15\n",
            "\u001b[1m1129/1129\u001b[0m \u001b[32m━━━━━━━━━━━━━━━━━━━━\u001b[0m\u001b[37m\u001b[0m \u001b[1m4s\u001b[0m 4ms/step - Precision: 0.7274 - accuracy: 0.6920 - loss: 0.6737 - val_Precision: 0.7029 - val_accuracy: 0.6769 - val_loss: 0.7222\n"
          ]
        }
      ]
    },
    {
      "cell_type": "code",
      "source": [
        "model3.evaluate(x_valid, y_valid_categorical)"
      ],
      "metadata": {
        "colab": {
          "base_uri": "https://localhost:8080/"
        },
        "id": "FGKhXyj3AfI3",
        "outputId": "39276701-4269-4898-ad48-a25140e85bdf"
      },
      "id": "FGKhXyj3AfI3",
      "execution_count": 36,
      "outputs": [
        {
          "output_type": "stream",
          "name": "stdout",
          "text": [
            "\u001b[1m469/469\u001b[0m \u001b[32m━━━━━━━━━━━━━━━━━━━━\u001b[0m\u001b[37m\u001b[0m \u001b[1m2s\u001b[0m 3ms/step - Precision: 0.5598 - accuracy: 0.5521 - loss: 43.6990\n"
          ]
        },
        {
          "output_type": "execute_result",
          "data": {
            "text/plain": [
              "[43.65151596069336, 0.5527333617210388, 0.5585657358169556]"
            ]
          },
          "metadata": {},
          "execution_count": 36
        }
      ]
    },
    {
      "cell_type": "code",
      "source": [
        "import matplotlib.pyplot as plt\n",
        "\n",
        "# Extract accuracy and validation accuracy\n",
        "train_acc = history3.history['accuracy']\n",
        "val_acc = history3.history['val_accuracy']\n",
        "\n",
        "# Plot accuracy curves\n",
        "plt.figure(figsize=(8, 5))\n",
        "plt.plot(train_acc, label='Training Accuracy', color='blue')\n",
        "plt.plot(val_acc, label='Validation Accuracy', color='red')\n",
        "plt.xlabel('Epochs')\n",
        "plt.ylabel('Accuracy')\n",
        "plt.title('Model Accuracy over Epochs')\n",
        "plt.legend()\n",
        "plt.grid()\n",
        "plt.show()\n"
      ],
      "metadata": {
        "colab": {
          "base_uri": "https://localhost:8080/",
          "height": 487
        },
        "id": "mkQCWh6np4Jm",
        "outputId": "66fbcf21-257d-4105-dc68-8c5e8a6d6366"
      },
      "id": "mkQCWh6np4Jm",
      "execution_count": 37,
      "outputs": [
        {
          "output_type": "display_data",
          "data": {
            "text/plain": [
              "<Figure size 800x500 with 1 Axes>"
            ],
            "image/png": "[encoded data removed]"
          },
          "metadata": {}
        }
      ]
    },
    {
      "cell_type": "markdown",
      "source": [
        "#### trial_4 is the best  So"
      ],
      "metadata": {
        "id": "4M8H8XnbBREH"
      },
      "id": "4M8H8XnbBREH"
    },
    {
      "cell_type": "code",
      "source": [
        "model=Sequential()\n",
        "model.add(Dense(128,activation=\"relu\",input_shape=(x_train.shape[1],)))\n",
        "model.add(Dense(64,activation=\"relu\"))\n",
        "model.add(Dense(32,activation=\"relu\"))\n",
        "model.add(Dense(16,activation=\"relu\"))\n",
        "model.add(Dense(8,activation=\"relu\"))\n",
        "model.add(Dense(3, activation='softmax'))\n",
        "model.summary()\n"
      ],
      "metadata": {
        "id": "PEDLI8-ZChzH",
        "colab": {
          "base_uri": "https://localhost:8080/",
          "height": 383
        },
        "outputId": "cc16fe8d-90e7-4204-a208-5e2674435f30"
      },
      "id": "PEDLI8-ZChzH",
      "execution_count": 38,
      "outputs": [
        {
          "output_type": "stream",
          "name": "stderr",
          "text": [
            "/usr/local/lib/python3.11/dist-packages/keras/src/layers/core/dense.py:87: UserWarning: Do not pass an `input_shape`/`input_dim` argument to a layer. When using Sequential models, prefer using an `Input(shape)` object as the first layer in the model instead.\n",
            "  super().__init__(activity_regularizer=activity_regularizer, **kwargs)\n"
          ]
        },
        {
          "output_type": "display_data",
          "data": {
            "text/plain": [
              "\u001b[1mModel: \"sequential_3\"\u001b[0m\n"
            ],
            "text/html": [
              "<pre style=\"white-space:pre;overflow-x:auto;line-height:normal;font-family:Menlo,'DejaVu Sans Mono',consolas,'Courier New',monospace\"><span style=\"font-weight: bold\">Model: \"sequential_3\"</span>\n",
              "</pre>\n"
            ]
          },
          "metadata": {}
        },
        {
          "output_type": "display_data",
          "data": {
            "text/plain": [
              "┏━━━━━━━━━━━━━━━━━━━━━━━━━━━━━━━━━━━━━━┳━━━━━━━━━━━━━━━━━━━━━━━━━━━━━┳━━━━━━━━━━━━━━━━━┓\n",
              "┃\u001b[1m \u001b[0m\u001b[1mLayer (type)                        \u001b[0m\u001b[1m \u001b[0m┃\u001b[1m \u001b[0m\u001b[1mOutput Shape               \u001b[0m\u001b[1m \u001b[0m┃\u001b[1m \u001b[0m\u001b[1m        Param #\u001b[0m\u001b[1m \u001b[0m┃\n",
              "┡━━━━━━━━━━━━━━━━━━━━━━━━━━━━━━━━━━━━━━╇━━━━━━━━━━━━━━━━━━━━━━━━━━━━━╇━━━━━━━━━━━━━━━━━┩\n",
              "│ dense_12 (\u001b[38;5;33mDense\u001b[0m)                     │ (\u001b[38;5;45mNone\u001b[0m, \u001b[38;5;34m128\u001b[0m)                 │           \u001b[38;5;34m5,632\u001b[0m │\n",
              "├──────────────────────────────────────┼─────────────────────────────┼─────────────────┤\n",
              "│ dense_13 (\u001b[38;5;33mDense\u001b[0m)                     │ (\u001b[38;5;45mNone\u001b[0m, \u001b[38;5;34m64\u001b[0m)                  │           \u001b[38;5;34m8,256\u001b[0m │\n",
              "├──────────────────────────────────────┼─────────────────────────────┼─────────────────┤\n",
              "│ dense_14 (\u001b[38;5;33mDense\u001b[0m)                     │ (\u001b[38;5;45mNone\u001b[0m, \u001b[38;5;34m32\u001b[0m)                  │           \u001b[38;5;34m2,080\u001b[0m │\n",
              "├──────────────────────────────────────┼─────────────────────────────┼─────────────────┤\n",
              "│ dense_15 (\u001b[38;5;33mDense\u001b[0m)                     │ (\u001b[38;5;45mNone\u001b[0m, \u001b[38;5;34m16\u001b[0m)                  │             \u001b[38;5;34m528\u001b[0m │\n",
              "├──────────────────────────────────────┼─────────────────────────────┼─────────────────┤\n",
              "│ dense_16 (\u001b[38;5;33mDense\u001b[0m)                     │ (\u001b[38;5;45mNone\u001b[0m, \u001b[38;5;34m8\u001b[0m)                   │             \u001b[38;5;34m136\u001b[0m │\n",
              "├──────────────────────────────────────┼─────────────────────────────┼─────────────────┤\n",
              "│ dense_17 (\u001b[38;5;33mDense\u001b[0m)                     │ (\u001b[38;5;45mNone\u001b[0m, \u001b[38;5;34m3\u001b[0m)                   │              \u001b[38;5;34m27\u001b[0m │\n",
              "└──────────────────────────────────────┴─────────────────────────────┴─────────────────┘\n"
            ],
            "text/html": [
              "<pre style=\"white-space:pre;overflow-x:auto;line-height:normal;font-family:Menlo,'DejaVu Sans Mono',consolas,'Courier New',monospace\">┏━━━━━━━━━━━━━━━━━━━━━━━━━━━━━━━━━━━━━━┳━━━━━━━━━━━━━━━━━━━━━━━━━━━━━┳━━━━━━━━━━━━━━━━━┓\n",
              "┃<span style=\"font-weight: bold\"> Layer (type)                         </span>┃<span style=\"font-weight: bold\"> Output Shape                </span>┃<span style=\"font-weight: bold\">         Param # </span>┃\n",
              "┡━━━━━━━━━━━━━━━━━━━━━━━━━━━━━━━━━━━━━━╇━━━━━━━━━━━━━━━━━━━━━━━━━━━━━╇━━━━━━━━━━━━━━━━━┩\n",
              "│ dense_12 (<span style=\"color: #0087ff; text-decoration-color: #0087ff\">Dense</span>)                     │ (<span style=\"color: #00d7ff; text-decoration-color: #00d7ff\">None</span>, <span style=\"color: #00af00; text-decoration-color: #00af00\">128</span>)                 │           <span style=\"color: #00af00; text-decoration-color: #00af00\">5,632</span> │\n",
              "├──────────────────────────────────────┼─────────────────────────────┼─────────────────┤\n",
              "│ dense_13 (<span style=\"color: #0087ff; text-decoration-color: #0087ff\">Dense</span>)                     │ (<span style=\"color: #00d7ff; text-decoration-color: #00d7ff\">None</span>, <span style=\"color: #00af00; text-decoration-color: #00af00\">64</span>)                  │           <span style=\"color: #00af00; text-decoration-color: #00af00\">8,256</span> │\n",
              "├──────────────────────────────────────┼─────────────────────────────┼─────────────────┤\n",
              "│ dense_14 (<span style=\"color: #0087ff; text-decoration-color: #0087ff\">Dense</span>)                     │ (<span style=\"color: #00d7ff; text-decoration-color: #00d7ff\">None</span>, <span style=\"color: #00af00; text-decoration-color: #00af00\">32</span>)                  │           <span style=\"color: #00af00; text-decoration-color: #00af00\">2,080</span> │\n",
              "├──────────────────────────────────────┼─────────────────────────────┼─────────────────┤\n",
              "│ dense_15 (<span style=\"color: #0087ff; text-decoration-color: #0087ff\">Dense</span>)                     │ (<span style=\"color: #00d7ff; text-decoration-color: #00d7ff\">None</span>, <span style=\"color: #00af00; text-decoration-color: #00af00\">16</span>)                  │             <span style=\"color: #00af00; text-decoration-color: #00af00\">528</span> │\n",
              "├──────────────────────────────────────┼─────────────────────────────┼─────────────────┤\n",
              "│ dense_16 (<span style=\"color: #0087ff; text-decoration-color: #0087ff\">Dense</span>)                     │ (<span style=\"color: #00d7ff; text-decoration-color: #00d7ff\">None</span>, <span style=\"color: #00af00; text-decoration-color: #00af00\">8</span>)                   │             <span style=\"color: #00af00; text-decoration-color: #00af00\">136</span> │\n",
              "├──────────────────────────────────────┼─────────────────────────────┼─────────────────┤\n",
              "│ dense_17 (<span style=\"color: #0087ff; text-decoration-color: #0087ff\">Dense</span>)                     │ (<span style=\"color: #00d7ff; text-decoration-color: #00d7ff\">None</span>, <span style=\"color: #00af00; text-decoration-color: #00af00\">3</span>)                   │              <span style=\"color: #00af00; text-decoration-color: #00af00\">27</span> │\n",
              "└──────────────────────────────────────┴─────────────────────────────┴─────────────────┘\n",
              "</pre>\n"
            ]
          },
          "metadata": {}
        },
        {
          "output_type": "display_data",
          "data": {
            "text/plain": [
              "\u001b[1m Total params: \u001b[0m\u001b[38;5;34m16,659\u001b[0m (65.07 KB)\n"
            ],
            "text/html": [
              "<pre style=\"white-space:pre;overflow-x:auto;line-height:normal;font-family:Menlo,'DejaVu Sans Mono',consolas,'Courier New',monospace\"><span style=\"font-weight: bold\"> Total params: </span><span style=\"color: #00af00; text-decoration-color: #00af00\">16,659</span> (65.07 KB)\n",
              "</pre>\n"
            ]
          },
          "metadata": {}
        },
        {
          "output_type": "display_data",
          "data": {
            "text/plain": [
              "\u001b[1m Trainable params: \u001b[0m\u001b[38;5;34m16,659\u001b[0m (65.07 KB)\n"
            ],
            "text/html": [
              "<pre style=\"white-space:pre;overflow-x:auto;line-height:normal;font-family:Menlo,'DejaVu Sans Mono',consolas,'Courier New',monospace\"><span style=\"font-weight: bold\"> Trainable params: </span><span style=\"color: #00af00; text-decoration-color: #00af00\">16,659</span> (65.07 KB)\n",
              "</pre>\n"
            ]
          },
          "metadata": {}
        },
        {
          "output_type": "display_data",
          "data": {
            "text/plain": [
              "\u001b[1m Non-trainable params: \u001b[0m\u001b[38;5;34m0\u001b[0m (0.00 B)\n"
            ],
            "text/html": [
              "<pre style=\"white-space:pre;overflow-x:auto;line-height:normal;font-family:Menlo,'DejaVu Sans Mono',consolas,'Courier New',monospace\"><span style=\"font-weight: bold\"> Non-trainable params: </span><span style=\"color: #00af00; text-decoration-color: #00af00\">0</span> (0.00 B)\n",
              "</pre>\n"
            ]
          },
          "metadata": {}
        }
      ]
    },
    {
      "cell_type": "code",
      "source": [
        "model.compile(keras.optimizers.Adam(0.0001), loss=\"categorical_crossentropy\", metrics=[\"accuracy\", \"Precision\"])\n"
      ],
      "metadata": {
        "id": "73sSiPENChxw"
      },
      "id": "73sSiPENChxw",
      "execution_count": 39,
      "outputs": []
    },
    {
      "cell_type": "code",
      "source": [
        "early_stop = EarlyStopping(monitor='val_accuracy', patience=10, restore_best_weights=True)"
      ],
      "metadata": {
        "id": "eBgbFwftbAkH"
      },
      "id": "eBgbFwftbAkH",
      "execution_count": 40,
      "outputs": []
    },
    {
      "cell_type": "code",
      "source": [
        "history4=model.fit(x_train, y_train_categorical, batch_size=32, epochs=100, validation_split=0.15,callbacks=[early_stop])"
      ],
      "metadata": {
        "id": "cqguTEpIChtb",
        "colab": {
          "base_uri": "https://localhost:8080/"
        },
        "outputId": "5fa15460-9f0d-4829-a11f-1ec1f0885675"
      },
      "id": "cqguTEpIChtb",
      "execution_count": 41,
      "outputs": [
        {
          "output_type": "stream",
          "name": "stdout",
          "text": [
            "Epoch 1/100\n",
            "\u001b[1m2258/2258\u001b[0m \u001b[32m━━━━━━━━━━━━━━━━━━━━\u001b[0m\u001b[37m\u001b[0m \u001b[1m13s\u001b[0m 5ms/step - Precision: 0.5599 - accuracy: 0.5603 - loss: 1.0389 - val_Precision: 0.6715 - val_accuracy: 0.6252 - val_loss: 0.8169\n",
            "Epoch 2/100\n",
            "\u001b[1m2258/2258\u001b[0m \u001b[32m━━━━━━━━━━━━━━━━━━━━\u001b[0m\u001b[37m\u001b[0m \u001b[1m8s\u001b[0m 3ms/step - Precision: 0.6803 - accuracy: 0.6334 - loss: 0.8053 - val_Precision: 0.6988 - val_accuracy: 0.6427 - val_loss: 0.7811\n",
            "Epoch 3/100\n",
            "\u001b[1m2258/2258\u001b[0m \u001b[32m━━━━━━━━━━━━━━━━━━━━\u001b[0m\u001b[37m\u001b[0m \u001b[1m7s\u001b[0m 3ms/step - Precision: 0.7053 - accuracy: 0.6466 - loss: 0.7720 - val_Precision: 0.7034 - val_accuracy: 0.6471 - val_loss: 0.7653\n",
            "Epoch 4/100\n",
            "\u001b[1m2258/2258\u001b[0m \u001b[32m━━━━━━━━━━━━━━━━━━━━\u001b[0m\u001b[37m\u001b[0m \u001b[1m7s\u001b[0m 3ms/step - Precision: 0.7146 - accuracy: 0.6548 - loss: 0.7496 - val_Precision: 0.7113 - val_accuracy: 0.6544 - val_loss: 0.7556\n",
            "Epoch 5/100\n",
            "\u001b[1m2258/2258\u001b[0m \u001b[32m━━━━━━━━━━━━━━━━━━━━\u001b[0m\u001b[37m\u001b[0m \u001b[1m7s\u001b[0m 3ms/step - Precision: 0.7208 - accuracy: 0.6617 - loss: 0.7401 - val_Precision: 0.7049 - val_accuracy: 0.6565 - val_loss: 0.7475\n",
            "Epoch 6/100\n",
            "\u001b[1m2258/2258\u001b[0m \u001b[32m━━━━━━━━━━━━━━━━━━━━\u001b[0m\u001b[37m\u001b[0m \u001b[1m7s\u001b[0m 3ms/step - Precision: 0.7226 - accuracy: 0.6630 - loss: 0.7325 - val_Precision: 0.7087 - val_accuracy: 0.6592 - val_loss: 0.7532\n",
            "Epoch 7/100\n",
            "\u001b[1m2258/2258\u001b[0m \u001b[32m━━━━━━━━━━━━━━━━━━━━\u001b[0m\u001b[37m\u001b[0m \u001b[1m7s\u001b[0m 3ms/step - Precision: 0.7259 - accuracy: 0.6665 - loss: 0.7258 - val_Precision: 0.7152 - val_accuracy: 0.6623 - val_loss: 0.7407\n",
            "Epoch 8/100\n",
            "\u001b[1m2258/2258\u001b[0m \u001b[32m━━━━━━━━━━━━━━━━━━━━\u001b[0m\u001b[37m\u001b[0m \u001b[1m7s\u001b[0m 3ms/step - Precision: 0.7273 - accuracy: 0.6695 - loss: 0.7224 - val_Precision: 0.7078 - val_accuracy: 0.6608 - val_loss: 0.7399\n",
            "Epoch 9/100\n",
            "\u001b[1m2258/2258\u001b[0m \u001b[32m━━━━━━━━━━━━━━━━━━━━\u001b[0m\u001b[37m\u001b[0m \u001b[1m10s\u001b[0m 3ms/step - Precision: 0.7266 - accuracy: 0.6704 - loss: 0.7194 - val_Precision: 0.7169 - val_accuracy: 0.6652 - val_loss: 0.7397\n",
            "Epoch 10/100\n",
            "\u001b[1m2258/2258\u001b[0m \u001b[32m━━━━━━━━━━━━━━━━━━━━\u001b[0m\u001b[37m\u001b[0m \u001b[1m10s\u001b[0m 3ms/step - Precision: 0.7290 - accuracy: 0.6725 - loss: 0.7175 - val_Precision: 0.7188 - val_accuracy: 0.6606 - val_loss: 0.7356\n",
            "Epoch 11/100\n",
            "\u001b[1m2258/2258\u001b[0m \u001b[32m━━━━━━━━━━━━━━━━━━━━\u001b[0m\u001b[37m\u001b[0m \u001b[1m10s\u001b[0m 3ms/step - Precision: 0.7321 - accuracy: 0.6728 - loss: 0.7148 - val_Precision: 0.7213 - val_accuracy: 0.6617 - val_loss: 0.7335\n",
            "Epoch 12/100\n",
            "\u001b[1m2258/2258\u001b[0m \u001b[32m━━━━━━━━━━━━━━━━━━━━\u001b[0m\u001b[37m\u001b[0m \u001b[1m7s\u001b[0m 3ms/step - Precision: 0.7296 - accuracy: 0.6731 - loss: 0.7125 - val_Precision: 0.7205 - val_accuracy: 0.6659 - val_loss: 0.7317\n",
            "Epoch 13/100\n",
            "\u001b[1m2258/2258\u001b[0m \u001b[32m━━━━━━━━━━━━━━━━━━━━\u001b[0m\u001b[37m\u001b[0m \u001b[1m8s\u001b[0m 3ms/step - Precision: 0.7260 - accuracy: 0.6729 - loss: 0.7112 - val_Precision: 0.7230 - val_accuracy: 0.6683 - val_loss: 0.7266\n",
            "Epoch 14/100\n",
            "\u001b[1m2258/2258\u001b[0m \u001b[32m━━━━━━━━━━━━━━━━━━━━\u001b[0m\u001b[37m\u001b[0m \u001b[1m8s\u001b[0m 3ms/step - Precision: 0.7321 - accuracy: 0.6786 - loss: 0.7038 - val_Precision: 0.7264 - val_accuracy: 0.6638 - val_loss: 0.7293\n",
            "Epoch 15/100\n",
            "\u001b[1m2258/2258\u001b[0m \u001b[32m━━━━━━━━━━━━━━━━━━━━\u001b[0m\u001b[37m\u001b[0m \u001b[1m10s\u001b[0m 3ms/step - Precision: 0.7304 - accuracy: 0.6761 - loss: 0.7097 - val_Precision: 0.7164 - val_accuracy: 0.6663 - val_loss: 0.7260\n",
            "Epoch 16/100\n",
            "\u001b[1m2258/2258\u001b[0m \u001b[32m━━━━━━━━━━━━━━━━━━━━\u001b[0m\u001b[37m\u001b[0m \u001b[1m10s\u001b[0m 3ms/step - Precision: 0.7309 - accuracy: 0.6798 - loss: 0.7015 - val_Precision: 0.7099 - val_accuracy: 0.6680 - val_loss: 0.7243\n",
            "Epoch 17/100\n",
            "\u001b[1m2258/2258\u001b[0m \u001b[32m━━━━━━━━━━━━━━━━━━━━\u001b[0m\u001b[37m\u001b[0m \u001b[1m10s\u001b[0m 3ms/step - Precision: 0.7258 - accuracy: 0.6787 - loss: 0.7022 - val_Precision: 0.7215 - val_accuracy: 0.6716 - val_loss: 0.7201\n",
            "Epoch 18/100\n",
            "\u001b[1m2258/2258\u001b[0m \u001b[32m━━━━━━━━━━━━━━━━━━━━\u001b[0m\u001b[37m\u001b[0m \u001b[1m7s\u001b[0m 3ms/step - Precision: 0.7295 - accuracy: 0.6804 - loss: 0.6981 - val_Precision: 0.7180 - val_accuracy: 0.6707 - val_loss: 0.7201\n",
            "Epoch 19/100\n",
            "\u001b[1m2258/2258\u001b[0m \u001b[32m━━━━━━━━━━━━━━━━━━━━\u001b[0m\u001b[37m\u001b[0m \u001b[1m7s\u001b[0m 3ms/step - Precision: 0.7302 - accuracy: 0.6839 - loss: 0.6968 - val_Precision: 0.7157 - val_accuracy: 0.6718 - val_loss: 0.7234\n",
            "Epoch 20/100\n",
            "\u001b[1m2258/2258\u001b[0m \u001b[32m━━━━━━━━━━━━━━━━━━━━\u001b[0m\u001b[37m\u001b[0m \u001b[1m7s\u001b[0m 3ms/step - Precision: 0.7163 - accuracy: 0.6807 - loss: 0.6971 - val_Precision: 0.7036 - val_accuracy: 0.6745 - val_loss: 0.7177\n",
            "Epoch 21/100\n",
            "\u001b[1m2258/2258\u001b[0m \u001b[32m━━━━━━━━━━━━━━━━━━━━\u001b[0m\u001b[37m\u001b[0m \u001b[1m8s\u001b[0m 3ms/step - Precision: 0.7123 - accuracy: 0.6802 - loss: 0.6963 - val_Precision: 0.6972 - val_accuracy: 0.6692 - val_loss: 0.7234\n",
            "Epoch 22/100\n",
            "\u001b[1m2258/2258\u001b[0m \u001b[32m━━━━━━━━━━━━━━━━━━━━\u001b[0m\u001b[37m\u001b[0m \u001b[1m10s\u001b[0m 3ms/step - Precision: 0.7161 - accuracy: 0.6862 - loss: 0.6872 - val_Precision: 0.7071 - val_accuracy: 0.6713 - val_loss: 0.7189\n",
            "Epoch 23/100\n",
            "\u001b[1m2258/2258\u001b[0m \u001b[32m━━━━━━━━━━━━━━━━━━━━\u001b[0m\u001b[37m\u001b[0m \u001b[1m7s\u001b[0m 3ms/step - Precision: 0.7171 - accuracy: 0.6837 - loss: 0.6943 - val_Precision: 0.7040 - val_accuracy: 0.6715 - val_loss: 0.7171\n",
            "Epoch 24/100\n",
            "\u001b[1m2258/2258\u001b[0m \u001b[32m━━━━━━━━━━━━━━━━━━━━\u001b[0m\u001b[37m\u001b[0m \u001b[1m10s\u001b[0m 3ms/step - Precision: 0.7153 - accuracy: 0.6835 - loss: 0.6900 - val_Precision: 0.7041 - val_accuracy: 0.6714 - val_loss: 0.7219\n",
            "Epoch 25/100\n",
            "\u001b[1m2258/2258\u001b[0m \u001b[32m━━━━━━━━━━━━━━━━━━━━\u001b[0m\u001b[37m\u001b[0m \u001b[1m10s\u001b[0m 3ms/step - Precision: 0.7140 - accuracy: 0.6828 - loss: 0.6910 - val_Precision: 0.7035 - val_accuracy: 0.6727 - val_loss: 0.7162\n",
            "Epoch 26/100\n",
            "\u001b[1m2258/2258\u001b[0m \u001b[32m━━━━━━━━━━━━━━━━━━━━\u001b[0m\u001b[37m\u001b[0m \u001b[1m10s\u001b[0m 3ms/step - Precision: 0.7195 - accuracy: 0.6891 - loss: 0.6859 - val_Precision: 0.6976 - val_accuracy: 0.6680 - val_loss: 0.7186\n",
            "Epoch 27/100\n",
            "\u001b[1m2258/2258\u001b[0m \u001b[32m━━━━━━━━━━━━━━━━━━━━\u001b[0m\u001b[37m\u001b[0m \u001b[1m10s\u001b[0m 3ms/step - Precision: 0.7206 - accuracy: 0.6880 - loss: 0.6837 - val_Precision: 0.7043 - val_accuracy: 0.6715 - val_loss: 0.7168\n",
            "Epoch 28/100\n",
            "\u001b[1m2258/2258\u001b[0m \u001b[32m━━━━━━━━━━━━━━━━━━━━\u001b[0m\u001b[37m\u001b[0m \u001b[1m8s\u001b[0m 3ms/step - Precision: 0.7175 - accuracy: 0.6876 - loss: 0.6823 - val_Precision: 0.7036 - val_accuracy: 0.6733 - val_loss: 0.7142\n",
            "Epoch 29/100\n",
            "\u001b[1m2258/2258\u001b[0m \u001b[32m━━━━━━━━━━━━━━━━━━━━\u001b[0m\u001b[37m\u001b[0m \u001b[1m10s\u001b[0m 3ms/step - Precision: 0.7183 - accuracy: 0.6879 - loss: 0.6819 - val_Precision: 0.7046 - val_accuracy: 0.6708 - val_loss: 0.7187\n",
            "Epoch 30/100\n",
            "\u001b[1m2258/2258\u001b[0m \u001b[32m━━━━━━━━━━━━━━━━━━━━\u001b[0m\u001b[37m\u001b[0m \u001b[1m10s\u001b[0m 3ms/step - Precision: 0.7215 - accuracy: 0.6911 - loss: 0.6780 - val_Precision: 0.7057 - val_accuracy: 0.6723 - val_loss: 0.7151\n"
          ]
        }
      ]
    },
    {
      "cell_type": "code",
      "source": [
        "import matplotlib.pyplot as plt\n",
        "\n",
        "# Extract accuracy and validation accuracy\n",
        "train_acc = history4.history['accuracy']\n",
        "val_acc = history4.history['val_accuracy']\n",
        "\n",
        "# Plot accuracy curves\n",
        "plt.figure(figsize=(8, 5))\n",
        "plt.plot(train_acc, label='Training Accuracy', color='blue')\n",
        "plt.plot(val_acc, label='Validation Accuracy', color='red')\n",
        "plt.xlabel('Epochs')\n",
        "plt.ylabel('Accuracy')\n",
        "plt.title('Model Accuracy over Epochs')\n",
        "plt.legend()\n",
        "plt.grid()\n",
        "plt.show()\n"
      ],
      "metadata": {
        "colab": {
          "base_uri": "https://localhost:8080/",
          "height": 487
        },
        "id": "K2n6G7ZtpY-2",
        "outputId": "5a168c6a-0811-4c34-f502-1479e3031a1d"
      },
      "id": "K2n6G7ZtpY-2",
      "execution_count": 42,
      "outputs": [
        {
          "output_type": "display_data",
          "data": {
            "text/plain": [
              "<Figure size 800x500 with 1 Axes>"
            ],
            "image/png": "[encoded data removed]"
          },
          "metadata": {}
        }
      ]
    },
    {
      "cell_type": "markdown",
      "source": [
        "### Trial_5"
      ],
      "metadata": {
        "id": "ph8U5wX9oRAG"
      },
      "id": "ph8U5wX9oRAG"
    },
    {
      "cell_type": "code",
      "source": [
        "model5=Sequential()\n",
        "model5.add(Dense(64,activation=\"relu\",input_shape=(x_train.shape[1],)))\n",
        "model5.add(Dense(64,activation=\"relu\"))\n",
        "model5.add(Dense(16,activation=\"relu\"))\n",
        "model5.add(Dense(8,activation=\"relu\"))\n",
        "model5.add(Dense(3, activation='softmax'))\n",
        "model5.summary()"
      ],
      "metadata": {
        "id": "woXzXIHHChmr",
        "colab": {
          "base_uri": "https://localhost:8080/",
          "height": 350
        },
        "outputId": "0a620350-f92b-4644-aabb-d50597559899"
      },
      "id": "woXzXIHHChmr",
      "execution_count": 43,
      "outputs": [
        {
          "output_type": "stream",
          "name": "stderr",
          "text": [
            "/usr/local/lib/python3.11/dist-packages/keras/src/layers/core/dense.py:87: UserWarning: Do not pass an `input_shape`/`input_dim` argument to a layer. When using Sequential models, prefer using an `Input(shape)` object as the first layer in the model instead.\n",
            "  super().__init__(activity_regularizer=activity_regularizer, **kwargs)\n"
          ]
        },
        {
          "output_type": "display_data",
          "data": {
            "text/plain": [
              "\u001b[1mModel: \"sequential_4\"\u001b[0m\n"
            ],
            "text/html": [
              "<pre style=\"white-space:pre;overflow-x:auto;line-height:normal;font-family:Menlo,'DejaVu Sans Mono',consolas,'Courier New',monospace\"><span style=\"font-weight: bold\">Model: \"sequential_4\"</span>\n",
              "</pre>\n"
            ]
          },
          "metadata": {}
        },
        {
          "output_type": "display_data",
          "data": {
            "text/plain": [
              "┏━━━━━━━━━━━━━━━━━━━━━━━━━━━━━━━━━━━━━━┳━━━━━━━━━━━━━━━━━━━━━━━━━━━━━┳━━━━━━━━━━━━━━━━━┓\n",
              "┃\u001b[1m \u001b[0m\u001b[1mLayer (type)                        \u001b[0m\u001b[1m \u001b[0m┃\u001b[1m \u001b[0m\u001b[1mOutput Shape               \u001b[0m\u001b[1m \u001b[0m┃\u001b[1m \u001b[0m\u001b[1m        Param #\u001b[0m\u001b[1m \u001b[0m┃\n",
              "┡━━━━━━━━━━━━━━━━━━━━━━━━━━━━━━━━━━━━━━╇━━━━━━━━━━━━━━━━━━━━━━━━━━━━━╇━━━━━━━━━━━━━━━━━┩\n",
              "│ dense_18 (\u001b[38;5;33mDense\u001b[0m)                     │ (\u001b[38;5;45mNone\u001b[0m, \u001b[38;5;34m64\u001b[0m)                  │           \u001b[38;5;34m2,816\u001b[0m │\n",
              "├──────────────────────────────────────┼─────────────────────────────┼─────────────────┤\n",
              "│ dense_19 (\u001b[38;5;33mDense\u001b[0m)                     │ (\u001b[38;5;45mNone\u001b[0m, \u001b[38;5;34m64\u001b[0m)                  │           \u001b[38;5;34m4,160\u001b[0m │\n",
              "├──────────────────────────────────────┼─────────────────────────────┼─────────────────┤\n",
              "│ dense_20 (\u001b[38;5;33mDense\u001b[0m)                     │ (\u001b[38;5;45mNone\u001b[0m, \u001b[38;5;34m16\u001b[0m)                  │           \u001b[38;5;34m1,040\u001b[0m │\n",
              "├──────────────────────────────────────┼─────────────────────────────┼─────────────────┤\n",
              "│ dense_21 (\u001b[38;5;33mDense\u001b[0m)                     │ (\u001b[38;5;45mNone\u001b[0m, \u001b[38;5;34m8\u001b[0m)                   │             \u001b[38;5;34m136\u001b[0m │\n",
              "├──────────────────────────────────────┼─────────────────────────────┼─────────────────┤\n",
              "│ dense_22 (\u001b[38;5;33mDense\u001b[0m)                     │ (\u001b[38;5;45mNone\u001b[0m, \u001b[38;5;34m3\u001b[0m)                   │              \u001b[38;5;34m27\u001b[0m │\n",
              "└──────────────────────────────────────┴─────────────────────────────┴─────────────────┘\n"
            ],
            "text/html": [
              "<pre style=\"white-space:pre;overflow-x:auto;line-height:normal;font-family:Menlo,'DejaVu Sans Mono',consolas,'Courier New',monospace\">┏━━━━━━━━━━━━━━━━━━━━━━━━━━━━━━━━━━━━━━┳━━━━━━━━━━━━━━━━━━━━━━━━━━━━━┳━━━━━━━━━━━━━━━━━┓\n",
              "┃<span style=\"font-weight: bold\"> Layer (type)                         </span>┃<span style=\"font-weight: bold\"> Output Shape                </span>┃<span style=\"font-weight: bold\">         Param # </span>┃\n",
              "┡━━━━━━━━━━━━━━━━━━━━━━━━━━━━━━━━━━━━━━╇━━━━━━━━━━━━━━━━━━━━━━━━━━━━━╇━━━━━━━━━━━━━━━━━┩\n",
              "│ dense_18 (<span style=\"color: #0087ff; text-decoration-color: #0087ff\">Dense</span>)                     │ (<span style=\"color: #00d7ff; text-decoration-color: #00d7ff\">None</span>, <span style=\"color: #00af00; text-decoration-color: #00af00\">64</span>)                  │           <span style=\"color: #00af00; text-decoration-color: #00af00\">2,816</span> │\n",
              "├──────────────────────────────────────┼─────────────────────────────┼─────────────────┤\n",
              "│ dense_19 (<span style=\"color: #0087ff; text-decoration-color: #0087ff\">Dense</span>)                     │ (<span style=\"color: #00d7ff; text-decoration-color: #00d7ff\">None</span>, <span style=\"color: #00af00; text-decoration-color: #00af00\">64</span>)                  │           <span style=\"color: #00af00; text-decoration-color: #00af00\">4,160</span> │\n",
              "├──────────────────────────────────────┼─────────────────────────────┼─────────────────┤\n",
              "│ dense_20 (<span style=\"color: #0087ff; text-decoration-color: #0087ff\">Dense</span>)                     │ (<span style=\"color: #00d7ff; text-decoration-color: #00d7ff\">None</span>, <span style=\"color: #00af00; text-decoration-color: #00af00\">16</span>)                  │           <span style=\"color: #00af00; text-decoration-color: #00af00\">1,040</span> │\n",
              "├──────────────────────────────────────┼─────────────────────────────┼─────────────────┤\n",
              "│ dense_21 (<span style=\"color: #0087ff; text-decoration-color: #0087ff\">Dense</span>)                     │ (<span style=\"color: #00d7ff; text-decoration-color: #00d7ff\">None</span>, <span style=\"color: #00af00; text-decoration-color: #00af00\">8</span>)                   │             <span style=\"color: #00af00; text-decoration-color: #00af00\">136</span> │\n",
              "├──────────────────────────────────────┼─────────────────────────────┼─────────────────┤\n",
              "│ dense_22 (<span style=\"color: #0087ff; text-decoration-color: #0087ff\">Dense</span>)                     │ (<span style=\"color: #00d7ff; text-decoration-color: #00d7ff\">None</span>, <span style=\"color: #00af00; text-decoration-color: #00af00\">3</span>)                   │              <span style=\"color: #00af00; text-decoration-color: #00af00\">27</span> │\n",
              "└──────────────────────────────────────┴─────────────────────────────┴─────────────────┘\n",
              "</pre>\n"
            ]
          },
          "metadata": {}
        },
        {
          "output_type": "display_data",
          "data": {
            "text/plain": [
              "\u001b[1m Total params: \u001b[0m\u001b[38;5;34m8,179\u001b[0m (31.95 KB)\n"
            ],
            "text/html": [
              "<pre style=\"white-space:pre;overflow-x:auto;line-height:normal;font-family:Menlo,'DejaVu Sans Mono',consolas,'Courier New',monospace\"><span style=\"font-weight: bold\"> Total params: </span><span style=\"color: #00af00; text-decoration-color: #00af00\">8,179</span> (31.95 KB)\n",
              "</pre>\n"
            ]
          },
          "metadata": {}
        },
        {
          "output_type": "display_data",
          "data": {
            "text/plain": [
              "\u001b[1m Trainable params: \u001b[0m\u001b[38;5;34m8,179\u001b[0m (31.95 KB)\n"
            ],
            "text/html": [
              "<pre style=\"white-space:pre;overflow-x:auto;line-height:normal;font-family:Menlo,'DejaVu Sans Mono',consolas,'Courier New',monospace\"><span style=\"font-weight: bold\"> Trainable params: </span><span style=\"color: #00af00; text-decoration-color: #00af00\">8,179</span> (31.95 KB)\n",
              "</pre>\n"
            ]
          },
          "metadata": {}
        },
        {
          "output_type": "display_data",
          "data": {
            "text/plain": [
              "\u001b[1m Non-trainable params: \u001b[0m\u001b[38;5;34m0\u001b[0m (0.00 B)\n"
            ],
            "text/html": [
              "<pre style=\"white-space:pre;overflow-x:auto;line-height:normal;font-family:Menlo,'DejaVu Sans Mono',consolas,'Courier New',monospace\"><span style=\"font-weight: bold\"> Non-trainable params: </span><span style=\"color: #00af00; text-decoration-color: #00af00\">0</span> (0.00 B)\n",
              "</pre>\n"
            ]
          },
          "metadata": {}
        }
      ]
    },
    {
      "cell_type": "code",
      "source": [
        "model5.compile(keras.optimizers.Adam(0.0001), loss=\"categorical_crossentropy\", metrics=[\"accuracy\", \"Precision\"])\n"
      ],
      "metadata": {
        "id": "t-AVqdkwChiH"
      },
      "id": "t-AVqdkwChiH",
      "execution_count": 44,
      "outputs": []
    },
    {
      "cell_type": "code",
      "source": [
        "early_stop = EarlyStopping(monitor='val_accuracy', patience=15, restore_best_weights=True)"
      ],
      "metadata": {
        "id": "eVNGmdKjChgy"
      },
      "id": "eVNGmdKjChgy",
      "execution_count": 45,
      "outputs": []
    },
    {
      "cell_type": "code",
      "source": [
        "history5=model5.fit(x_train, y_train_categorical, batch_size=64, epochs=100, validation_split=0.15,callbacks=[early_stop])"
      ],
      "metadata": {
        "id": "VQkFDnSrChca",
        "colab": {
          "base_uri": "https://localhost:8080/"
        },
        "outputId": "1c2e4998-dd6d-4067-c139-aba8df0d638b"
      },
      "id": "VQkFDnSrChca",
      "execution_count": 46,
      "outputs": [
        {
          "output_type": "stream",
          "name": "stdout",
          "text": [
            "Epoch 1/100\n",
            "\u001b[1m1129/1129\u001b[0m \u001b[32m━━━━━━━━━━━━━━━━━━━━\u001b[0m\u001b[37m\u001b[0m \u001b[1m9s\u001b[0m 5ms/step - Precision: 0.3268 - accuracy: 0.4149 - loss: 1.3058 - val_Precision: 0.5391 - val_accuracy: 0.5947 - val_loss: 0.9603\n",
            "Epoch 2/100\n",
            "\u001b[1m1129/1129\u001b[0m \u001b[32m━━━━━━━━━━━━━━━━━━━━\u001b[0m\u001b[37m\u001b[0m \u001b[1m4s\u001b[0m 3ms/step - Precision: 0.5691 - accuracy: 0.5992 - loss: 0.9334 - val_Precision: 0.6108 - val_accuracy: 0.6002 - val_loss: 0.8796\n",
            "Epoch 3/100\n",
            "\u001b[1m1129/1129\u001b[0m \u001b[32m━━━━━━━━━━━━━━━━━━━━\u001b[0m\u001b[37m\u001b[0m \u001b[1m3s\u001b[0m 3ms/step - Precision: 0.6156 - accuracy: 0.6050 - loss: 0.8703 - val_Precision: 0.6148 - val_accuracy: 0.6010 - val_loss: 0.8449\n",
            "Epoch 4/100\n",
            "\u001b[1m1129/1129\u001b[0m \u001b[32m━━━━━━━━━━━━━━━━━━━━\u001b[0m\u001b[37m\u001b[0m \u001b[1m5s\u001b[0m 3ms/step - Precision: 0.6305 - accuracy: 0.6079 - loss: 0.8359 - val_Precision: 0.6658 - val_accuracy: 0.6202 - val_loss: 0.8182\n",
            "Epoch 5/100\n",
            "\u001b[1m1129/1129\u001b[0m \u001b[32m━━━━━━━━━━━━━━━━━━━━\u001b[0m\u001b[37m\u001b[0m \u001b[1m4s\u001b[0m 3ms/step - Precision: 0.6705 - accuracy: 0.6306 - loss: 0.8075 - val_Precision: 0.6683 - val_accuracy: 0.6384 - val_loss: 0.7953\n",
            "Epoch 6/100\n",
            "\u001b[1m1129/1129\u001b[0m \u001b[32m━━━━━━━━━━━━━━━━━━━━\u001b[0m\u001b[37m\u001b[0m \u001b[1m4s\u001b[0m 3ms/step - Precision: 0.6749 - accuracy: 0.6436 - loss: 0.7890 - val_Precision: 0.6787 - val_accuracy: 0.6438 - val_loss: 0.7880\n",
            "Epoch 7/100\n",
            "\u001b[1m1129/1129\u001b[0m \u001b[32m━━━━━━━━━━━━━━━━━━━━\u001b[0m\u001b[37m\u001b[0m \u001b[1m3s\u001b[0m 3ms/step - Precision: 0.6871 - accuracy: 0.6516 - loss: 0.7736 - val_Precision: 0.6739 - val_accuracy: 0.6432 - val_loss: 0.7800\n",
            "Epoch 8/100\n",
            "\u001b[1m1129/1129\u001b[0m \u001b[32m━━━━━━━━━━━━━━━━━━━━\u001b[0m\u001b[37m\u001b[0m \u001b[1m4s\u001b[0m 4ms/step - Precision: 0.6887 - accuracy: 0.6542 - loss: 0.7684 - val_Precision: 0.6848 - val_accuracy: 0.6466 - val_loss: 0.7707\n",
            "Epoch 9/100\n",
            "\u001b[1m1129/1129\u001b[0m \u001b[32m━━━━━━━━━━━━━━━━━━━━\u001b[0m\u001b[37m\u001b[0m \u001b[1m3s\u001b[0m 3ms/step - Precision: 0.6896 - accuracy: 0.6535 - loss: 0.7640 - val_Precision: 0.6809 - val_accuracy: 0.6495 - val_loss: 0.7651\n",
            "Epoch 10/100\n",
            "\u001b[1m1129/1129\u001b[0m \u001b[32m━━━━━━━━━━━━━━━━━━━━\u001b[0m\u001b[37m\u001b[0m \u001b[1m3s\u001b[0m 3ms/step - Precision: 0.6923 - accuracy: 0.6553 - loss: 0.7578 - val_Precision: 0.6920 - val_accuracy: 0.6520 - val_loss: 0.7625\n",
            "Epoch 11/100\n",
            "\u001b[1m1129/1129\u001b[0m \u001b[32m━━━━━━━━━━━━━━━━━━━━\u001b[0m\u001b[37m\u001b[0m \u001b[1m5s\u001b[0m 3ms/step - Precision: 0.7007 - accuracy: 0.6604 - loss: 0.7498 - val_Precision: 0.6986 - val_accuracy: 0.6551 - val_loss: 0.7566\n",
            "Epoch 12/100\n",
            "\u001b[1m1129/1129\u001b[0m \u001b[32m━━━━━━━━━━━━━━━━━━━━\u001b[0m\u001b[37m\u001b[0m \u001b[1m5s\u001b[0m 3ms/step - Precision: 0.7035 - accuracy: 0.6623 - loss: 0.7409 - val_Precision: 0.6971 - val_accuracy: 0.6565 - val_loss: 0.7511\n",
            "Epoch 13/100\n",
            "\u001b[1m1129/1129\u001b[0m \u001b[32m━━━━━━━━━━━━━━━━━━━━\u001b[0m\u001b[37m\u001b[0m \u001b[1m6s\u001b[0m 4ms/step - Precision: 0.7071 - accuracy: 0.6642 - loss: 0.7388 - val_Precision: 0.7035 - val_accuracy: 0.6595 - val_loss: 0.7526\n",
            "Epoch 14/100\n",
            "\u001b[1m1129/1129\u001b[0m \u001b[32m━━━━━━━━━━━━━━━━━━━━\u001b[0m\u001b[37m\u001b[0m \u001b[1m4s\u001b[0m 3ms/step - Precision: 0.7069 - accuracy: 0.6627 - loss: 0.7363 - val_Precision: 0.7042 - val_accuracy: 0.6578 - val_loss: 0.7463\n",
            "Epoch 15/100\n",
            "\u001b[1m1129/1129\u001b[0m \u001b[32m━━━━━━━━━━━━━━━━━━━━\u001b[0m\u001b[37m\u001b[0m \u001b[1m4s\u001b[0m 3ms/step - Precision: 0.7127 - accuracy: 0.6667 - loss: 0.7309 - val_Precision: 0.7058 - val_accuracy: 0.6600 - val_loss: 0.7438\n",
            "Epoch 16/100\n",
            "\u001b[1m1129/1129\u001b[0m \u001b[32m━━━━━━━━━━━━━━━━━━━━\u001b[0m\u001b[37m\u001b[0m \u001b[1m5s\u001b[0m 4ms/step - Precision: 0.7142 - accuracy: 0.6679 - loss: 0.7277 - val_Precision: 0.7064 - val_accuracy: 0.6649 - val_loss: 0.7397\n",
            "Epoch 17/100\n",
            "\u001b[1m1129/1129\u001b[0m \u001b[32m━━━━━━━━━━━━━━━━━━━━\u001b[0m\u001b[37m\u001b[0m \u001b[1m4s\u001b[0m 3ms/step - Precision: 0.7105 - accuracy: 0.6656 - loss: 0.7283 - val_Precision: 0.7145 - val_accuracy: 0.6657 - val_loss: 0.7385\n",
            "Epoch 18/100\n",
            "\u001b[1m1129/1129\u001b[0m \u001b[32m━━━━━━━━━━━━━━━━━━━━\u001b[0m\u001b[37m\u001b[0m \u001b[1m4s\u001b[0m 3ms/step - Precision: 0.7163 - accuracy: 0.6686 - loss: 0.7236 - val_Precision: 0.7074 - val_accuracy: 0.6613 - val_loss: 0.7369\n",
            "Epoch 19/100\n",
            "\u001b[1m1129/1129\u001b[0m \u001b[32m━━━━━━━━━━━━━━━━━━━━\u001b[0m\u001b[37m\u001b[0m \u001b[1m6s\u001b[0m 4ms/step - Precision: 0.7171 - accuracy: 0.6686 - loss: 0.7176 - val_Precision: 0.7084 - val_accuracy: 0.6655 - val_loss: 0.7360\n",
            "Epoch 20/100\n",
            "\u001b[1m1129/1129\u001b[0m \u001b[32m━━━━━━━━━━━━━━━━━━━━\u001b[0m\u001b[37m\u001b[0m \u001b[1m4s\u001b[0m 3ms/step - Precision: 0.7147 - accuracy: 0.6666 - loss: 0.7220 - val_Precision: 0.7122 - val_accuracy: 0.6652 - val_loss: 0.7335\n",
            "Epoch 21/100\n",
            "\u001b[1m1129/1129\u001b[0m \u001b[32m━━━━━━━━━━━━━━━━━━━━\u001b[0m\u001b[37m\u001b[0m \u001b[1m3s\u001b[0m 3ms/step - Precision: 0.7169 - accuracy: 0.6695 - loss: 0.7186 - val_Precision: 0.7146 - val_accuracy: 0.6653 - val_loss: 0.7322\n",
            "Epoch 22/100\n",
            "\u001b[1m1129/1129\u001b[0m \u001b[32m━━━━━━━━━━━━━━━━━━━━\u001b[0m\u001b[37m\u001b[0m \u001b[1m4s\u001b[0m 4ms/step - Precision: 0.7201 - accuracy: 0.6742 - loss: 0.7129 - val_Precision: 0.7115 - val_accuracy: 0.6656 - val_loss: 0.7297\n",
            "Epoch 23/100\n",
            "\u001b[1m1129/1129\u001b[0m \u001b[32m━━━━━━━━━━━━━━━━━━━━\u001b[0m\u001b[37m\u001b[0m \u001b[1m5s\u001b[0m 3ms/step - Precision: 0.7215 - accuracy: 0.6742 - loss: 0.7089 - val_Precision: 0.7116 - val_accuracy: 0.6689 - val_loss: 0.7317\n",
            "Epoch 24/100\n",
            "\u001b[1m1129/1129\u001b[0m \u001b[32m━━━━━━━━━━━━━━━━━━━━\u001b[0m\u001b[37m\u001b[0m \u001b[1m3s\u001b[0m 3ms/step - Precision: 0.7210 - accuracy: 0.6744 - loss: 0.7065 - val_Precision: 0.7165 - val_accuracy: 0.6674 - val_loss: 0.7285\n",
            "Epoch 25/100\n",
            "\u001b[1m1129/1129\u001b[0m \u001b[32m━━━━━━━━━━━━━━━━━━━━\u001b[0m\u001b[37m\u001b[0m \u001b[1m4s\u001b[0m 4ms/step - Precision: 0.7239 - accuracy: 0.6784 - loss: 0.7061 - val_Precision: 0.7170 - val_accuracy: 0.6668 - val_loss: 0.7280\n",
            "Epoch 26/100\n",
            "\u001b[1m1129/1129\u001b[0m \u001b[32m━━━━━━━━━━━━━━━━━━━━\u001b[0m\u001b[37m\u001b[0m \u001b[1m4s\u001b[0m 3ms/step - Precision: 0.7170 - accuracy: 0.6713 - loss: 0.7136 - val_Precision: 0.7079 - val_accuracy: 0.6654 - val_loss: 0.7297\n",
            "Epoch 27/100\n",
            "\u001b[1m1129/1129\u001b[0m \u001b[32m━━━━━━━━━━━━━━━━━━━━\u001b[0m\u001b[37m\u001b[0m \u001b[1m3s\u001b[0m 3ms/step - Precision: 0.7225 - accuracy: 0.6762 - loss: 0.7095 - val_Precision: 0.7173 - val_accuracy: 0.6669 - val_loss: 0.7254\n",
            "Epoch 28/100\n",
            "\u001b[1m1129/1129\u001b[0m \u001b[32m━━━━━━━━━━━━━━━━━━━━\u001b[0m\u001b[37m\u001b[0m \u001b[1m4s\u001b[0m 3ms/step - Precision: 0.7233 - accuracy: 0.6773 - loss: 0.7034 - val_Precision: 0.7183 - val_accuracy: 0.6696 - val_loss: 0.7267\n",
            "Epoch 29/100\n",
            "\u001b[1m1129/1129\u001b[0m \u001b[32m━━━━━━━━━━━━━━━━━━━━\u001b[0m\u001b[37m\u001b[0m \u001b[1m4s\u001b[0m 3ms/step - Precision: 0.7236 - accuracy: 0.6773 - loss: 0.7003 - val_Precision: 0.7161 - val_accuracy: 0.6696 - val_loss: 0.7247\n",
            "Epoch 30/100\n",
            "\u001b[1m1129/1129\u001b[0m \u001b[32m━━━━━━━━━━━━━━━━━━━━\u001b[0m\u001b[37m\u001b[0m \u001b[1m5s\u001b[0m 3ms/step - Precision: 0.7218 - accuracy: 0.6782 - loss: 0.7033 - val_Precision: 0.7178 - val_accuracy: 0.6679 - val_loss: 0.7249\n",
            "Epoch 31/100\n",
            "\u001b[1m1129/1129\u001b[0m \u001b[32m━━━━━━━━━━━━━━━━━━━━\u001b[0m\u001b[37m\u001b[0m \u001b[1m4s\u001b[0m 4ms/step - Precision: 0.7251 - accuracy: 0.6791 - loss: 0.7033 - val_Precision: 0.7118 - val_accuracy: 0.6661 - val_loss: 0.7257\n",
            "Epoch 32/100\n",
            "\u001b[1m1129/1129\u001b[0m \u001b[32m━━━━━━━━━━━━━━━━━━━━\u001b[0m\u001b[37m\u001b[0m \u001b[1m5s\u001b[0m 3ms/step - Precision: 0.7245 - accuracy: 0.6779 - loss: 0.7032 - val_Precision: 0.7104 - val_accuracy: 0.6678 - val_loss: 0.7240\n",
            "Epoch 33/100\n",
            "\u001b[1m1129/1129\u001b[0m \u001b[32m━━━━━━━━━━━━━━━━━━━━\u001b[0m\u001b[37m\u001b[0m \u001b[1m5s\u001b[0m 3ms/step - Precision: 0.7228 - accuracy: 0.6756 - loss: 0.7031 - val_Precision: 0.7203 - val_accuracy: 0.6708 - val_loss: 0.7191\n",
            "Epoch 34/100\n",
            "\u001b[1m1129/1129\u001b[0m \u001b[32m━━━━━━━━━━━━━━━━━━━━\u001b[0m\u001b[37m\u001b[0m \u001b[1m5s\u001b[0m 3ms/step - Precision: 0.7262 - accuracy: 0.6807 - loss: 0.6985 - val_Precision: 0.7192 - val_accuracy: 0.6685 - val_loss: 0.7209\n",
            "Epoch 35/100\n",
            "\u001b[1m1129/1129\u001b[0m \u001b[32m━━━━━━━━━━━━━━━━━━━━\u001b[0m\u001b[37m\u001b[0m \u001b[1m5s\u001b[0m 3ms/step - Precision: 0.7243 - accuracy: 0.6787 - loss: 0.7002 - val_Precision: 0.7188 - val_accuracy: 0.6724 - val_loss: 0.7237\n",
            "Epoch 36/100\n",
            "\u001b[1m1129/1129\u001b[0m \u001b[32m━━━━━━━━━━━━━━━━━━━━\u001b[0m\u001b[37m\u001b[0m \u001b[1m6s\u001b[0m 4ms/step - Precision: 0.7250 - accuracy: 0.6809 - loss: 0.6965 - val_Precision: 0.7148 - val_accuracy: 0.6722 - val_loss: 0.7209\n",
            "Epoch 37/100\n",
            "\u001b[1m1129/1129\u001b[0m \u001b[32m━━━━━━━━━━━━━━━━━━━━\u001b[0m\u001b[37m\u001b[0m \u001b[1m4s\u001b[0m 3ms/step - Precision: 0.7252 - accuracy: 0.6818 - loss: 0.6974 - val_Precision: 0.7118 - val_accuracy: 0.6713 - val_loss: 0.7234\n",
            "Epoch 38/100\n",
            "\u001b[1m1129/1129\u001b[0m \u001b[32m━━━━━━━━━━━━━━━━━━━━\u001b[0m\u001b[37m\u001b[0m \u001b[1m3s\u001b[0m 3ms/step - Precision: 0.7264 - accuracy: 0.6848 - loss: 0.6952 - val_Precision: 0.7184 - val_accuracy: 0.6734 - val_loss: 0.7187\n",
            "Epoch 39/100\n",
            "\u001b[1m1129/1129\u001b[0m \u001b[32m━━━━━━━━━━━━━━━━━━━━\u001b[0m\u001b[37m\u001b[0m \u001b[1m5s\u001b[0m 3ms/step - Precision: 0.7263 - accuracy: 0.6837 - loss: 0.6949 - val_Precision: 0.7173 - val_accuracy: 0.6737 - val_loss: 0.7163\n",
            "Epoch 40/100\n",
            "\u001b[1m1129/1129\u001b[0m \u001b[32m━━━━━━━━━━━━━━━━━━━━\u001b[0m\u001b[37m\u001b[0m \u001b[1m4s\u001b[0m 3ms/step - Precision: 0.7259 - accuracy: 0.6823 - loss: 0.6939 - val_Precision: 0.7188 - val_accuracy: 0.6751 - val_loss: 0.7157\n",
            "Epoch 41/100\n",
            "\u001b[1m1129/1129\u001b[0m \u001b[32m━━━━━━━━━━━━━━━━━━━━\u001b[0m\u001b[37m\u001b[0m \u001b[1m6s\u001b[0m 4ms/step - Precision: 0.7275 - accuracy: 0.6829 - loss: 0.6926 - val_Precision: 0.7140 - val_accuracy: 0.6702 - val_loss: 0.7187\n",
            "Epoch 42/100\n",
            "\u001b[1m1129/1129\u001b[0m \u001b[32m━━━━━━━━━━━━━━━━━━━━\u001b[0m\u001b[37m\u001b[0m \u001b[1m5s\u001b[0m 3ms/step - Precision: 0.7257 - accuracy: 0.6822 - loss: 0.6949 - val_Precision: 0.7154 - val_accuracy: 0.6761 - val_loss: 0.7171\n",
            "Epoch 43/100\n",
            "\u001b[1m1129/1129\u001b[0m \u001b[32m━━━━━━━━━━━━━━━━━━━━\u001b[0m\u001b[37m\u001b[0m \u001b[1m3s\u001b[0m 3ms/step - Precision: 0.7244 - accuracy: 0.6825 - loss: 0.6953 - val_Precision: 0.7149 - val_accuracy: 0.6720 - val_loss: 0.7163\n",
            "Epoch 44/100\n",
            "\u001b[1m1129/1129\u001b[0m \u001b[32m━━━━━━━━━━━━━━━━━━━━\u001b[0m\u001b[37m\u001b[0m \u001b[1m5s\u001b[0m 4ms/step - Precision: 0.7273 - accuracy: 0.6854 - loss: 0.6908 - val_Precision: 0.7168 - val_accuracy: 0.6758 - val_loss: 0.7143\n",
            "Epoch 45/100\n",
            "\u001b[1m1129/1129\u001b[0m \u001b[32m━━━━━━━━━━━━━━━━━━━━\u001b[0m\u001b[37m\u001b[0m \u001b[1m3s\u001b[0m 3ms/step - Precision: 0.7268 - accuracy: 0.6839 - loss: 0.6944 - val_Precision: 0.7111 - val_accuracy: 0.6734 - val_loss: 0.7178\n",
            "Epoch 46/100\n",
            "\u001b[1m1129/1129\u001b[0m \u001b[32m━━━━━━━━━━━━━━━━━━━━\u001b[0m\u001b[37m\u001b[0m \u001b[1m4s\u001b[0m 3ms/step - Precision: 0.7252 - accuracy: 0.6846 - loss: 0.6908 - val_Precision: 0.7141 - val_accuracy: 0.6734 - val_loss: 0.7153\n",
            "Epoch 47/100\n",
            "\u001b[1m1129/1129\u001b[0m \u001b[32m━━━━━━━━━━━━━━━━━━━━\u001b[0m\u001b[37m\u001b[0m \u001b[1m6s\u001b[0m 4ms/step - Precision: 0.7263 - accuracy: 0.6835 - loss: 0.6910 - val_Precision: 0.7200 - val_accuracy: 0.6747 - val_loss: 0.7158\n",
            "Epoch 48/100\n",
            "\u001b[1m1129/1129\u001b[0m \u001b[32m━━━━━━━━━━━━━━━━━━━━\u001b[0m\u001b[37m\u001b[0m \u001b[1m4s\u001b[0m 3ms/step - Precision: 0.7264 - accuracy: 0.6831 - loss: 0.6914 - val_Precision: 0.7147 - val_accuracy: 0.6730 - val_loss: 0.7133\n",
            "Epoch 49/100\n",
            "\u001b[1m1129/1129\u001b[0m \u001b[32m━━━━━━━━━━━━━━━━━━━━\u001b[0m\u001b[37m\u001b[0m \u001b[1m6s\u001b[0m 4ms/step - Precision: 0.7268 - accuracy: 0.6857 - loss: 0.6885 - val_Precision: 0.7204 - val_accuracy: 0.6743 - val_loss: 0.7119\n",
            "Epoch 50/100\n",
            "\u001b[1m1129/1129\u001b[0m \u001b[32m━━━━━━━━━━━━━━━━━━━━\u001b[0m\u001b[37m\u001b[0m \u001b[1m4s\u001b[0m 3ms/step - Precision: 0.7241 - accuracy: 0.6836 - loss: 0.6928 - val_Precision: 0.7168 - val_accuracy: 0.6744 - val_loss: 0.7131\n",
            "Epoch 51/100\n",
            "\u001b[1m1129/1129\u001b[0m \u001b[32m━━━━━━━━━━━━━━━━━━━━\u001b[0m\u001b[37m\u001b[0m \u001b[1m4s\u001b[0m 3ms/step - Precision: 0.7284 - accuracy: 0.6866 - loss: 0.6850 - val_Precision: 0.7188 - val_accuracy: 0.6771 - val_loss: 0.7111\n",
            "Epoch 52/100\n",
            "\u001b[1m1129/1129\u001b[0m \u001b[32m━━━━━━━━━━━━━━━━━━━━\u001b[0m\u001b[37m\u001b[0m \u001b[1m6s\u001b[0m 4ms/step - Precision: 0.7292 - accuracy: 0.6863 - loss: 0.6842 - val_Precision: 0.7155 - val_accuracy: 0.6667 - val_loss: 0.7211\n",
            "Epoch 53/100\n",
            "\u001b[1m1129/1129\u001b[0m \u001b[32m━━━━━━━━━━━━━━━━━━━━\u001b[0m\u001b[37m\u001b[0m \u001b[1m3s\u001b[0m 3ms/step - Precision: 0.7273 - accuracy: 0.6852 - loss: 0.6880 - val_Precision: 0.7175 - val_accuracy: 0.6745 - val_loss: 0.7112\n",
            "Epoch 54/100\n",
            "\u001b[1m1129/1129\u001b[0m \u001b[32m━━━━━━━━━━━━━━━━━━━━\u001b[0m\u001b[37m\u001b[0m \u001b[1m5s\u001b[0m 3ms/step - Precision: 0.7293 - accuracy: 0.6878 - loss: 0.6866 - val_Precision: 0.7200 - val_accuracy: 0.6715 - val_loss: 0.7166\n",
            "Epoch 55/100\n",
            "\u001b[1m1129/1129\u001b[0m \u001b[32m━━━━━━━━━━━━━━━━━━━━\u001b[0m\u001b[37m\u001b[0m \u001b[1m6s\u001b[0m 4ms/step - Precision: 0.7268 - accuracy: 0.6853 - loss: 0.6894 - val_Precision: 0.7178 - val_accuracy: 0.6767 - val_loss: 0.7093\n",
            "Epoch 56/100\n",
            "\u001b[1m1129/1129\u001b[0m \u001b[32m━━━━━━━━━━━━━━━━━━━━\u001b[0m\u001b[37m\u001b[0m \u001b[1m4s\u001b[0m 3ms/step - Precision: 0.7255 - accuracy: 0.6868 - loss: 0.6839 - val_Precision: 0.7130 - val_accuracy: 0.6748 - val_loss: 0.7116\n",
            "Epoch 57/100\n",
            "\u001b[1m1129/1129\u001b[0m \u001b[32m━━━━━━━━━━━━━━━━━━━━\u001b[0m\u001b[37m\u001b[0m \u001b[1m4s\u001b[0m 3ms/step - Precision: 0.7295 - accuracy: 0.6895 - loss: 0.6824 - val_Precision: 0.7174 - val_accuracy: 0.6758 - val_loss: 0.7097\n",
            "Epoch 58/100\n",
            "\u001b[1m1129/1129\u001b[0m \u001b[32m━━━━━━━━━━━━━━━━━━━━\u001b[0m\u001b[37m\u001b[0m \u001b[1m5s\u001b[0m 3ms/step - Precision: 0.7266 - accuracy: 0.6880 - loss: 0.6833 - val_Precision: 0.7143 - val_accuracy: 0.6769 - val_loss: 0.7108\n",
            "Epoch 59/100\n",
            "\u001b[1m1129/1129\u001b[0m \u001b[32m━━━━━━━━━━━━━━━━━━━━\u001b[0m\u001b[37m\u001b[0m \u001b[1m5s\u001b[0m 3ms/step - Precision: 0.7257 - accuracy: 0.6854 - loss: 0.6851 - val_Precision: 0.7175 - val_accuracy: 0.6765 - val_loss: 0.7106\n",
            "Epoch 60/100\n",
            "\u001b[1m1129/1129\u001b[0m \u001b[32m━━━━━━━━━━━━━━━━━━━━\u001b[0m\u001b[37m\u001b[0m \u001b[1m5s\u001b[0m 3ms/step - Precision: 0.7269 - accuracy: 0.6872 - loss: 0.6862 - val_Precision: 0.7223 - val_accuracy: 0.6783 - val_loss: 0.7078\n",
            "Epoch 61/100\n",
            "\u001b[1m1129/1129\u001b[0m \u001b[32m━━━━━━━━━━━━━━━━━━━━\u001b[0m\u001b[37m\u001b[0m \u001b[1m3s\u001b[0m 3ms/step - Precision: 0.7319 - accuracy: 0.6903 - loss: 0.6791 - val_Precision: 0.7104 - val_accuracy: 0.6729 - val_loss: 0.7126\n",
            "Epoch 62/100\n",
            "\u001b[1m1129/1129\u001b[0m \u001b[32m━━━━━━━━━━━━━━━━━━━━\u001b[0m\u001b[37m\u001b[0m \u001b[1m3s\u001b[0m 3ms/step - Precision: 0.7289 - accuracy: 0.6901 - loss: 0.6802 - val_Precision: 0.7164 - val_accuracy: 0.6773 - val_loss: 0.7095\n",
            "Epoch 63/100\n",
            "\u001b[1m1129/1129\u001b[0m \u001b[32m━━━━━━━━━━━━━━━━━━━━\u001b[0m\u001b[37m\u001b[0m \u001b[1m5s\u001b[0m 3ms/step - Precision: 0.7258 - accuracy: 0.6892 - loss: 0.6820 - val_Precision: 0.7163 - val_accuracy: 0.6737 - val_loss: 0.7124\n",
            "Epoch 64/100\n",
            "\u001b[1m1129/1129\u001b[0m \u001b[32m━━━━━━━━━━━━━━━━━━━━\u001b[0m\u001b[37m\u001b[0m \u001b[1m5s\u001b[0m 3ms/step - Precision: 0.7289 - accuracy: 0.6886 - loss: 0.6847 - val_Precision: 0.7136 - val_accuracy: 0.6781 - val_loss: 0.7107\n",
            "Epoch 65/100\n",
            "\u001b[1m1129/1129\u001b[0m \u001b[32m━━━━━━━━━━━━━━━━━━━━\u001b[0m\u001b[37m\u001b[0m \u001b[1m4s\u001b[0m 4ms/step - Precision: 0.7261 - accuracy: 0.6882 - loss: 0.6863 - val_Precision: 0.7163 - val_accuracy: 0.6760 - val_loss: 0.7079\n",
            "Epoch 66/100\n",
            "\u001b[1m1129/1129\u001b[0m \u001b[32m━━━━━━━━━━━━━━━━━━━━\u001b[0m\u001b[37m\u001b[0m \u001b[1m3s\u001b[0m 3ms/step - Precision: 0.7284 - accuracy: 0.6897 - loss: 0.6789 - val_Precision: 0.7203 - val_accuracy: 0.6703 - val_loss: 0.7148\n",
            "Epoch 67/100\n",
            "\u001b[1m1129/1129\u001b[0m \u001b[32m━━━━━━━━━━━━━━━━━━━━\u001b[0m\u001b[37m\u001b[0m \u001b[1m4s\u001b[0m 3ms/step - Precision: 0.7307 - accuracy: 0.6915 - loss: 0.6769 - val_Precision: 0.7145 - val_accuracy: 0.6767 - val_loss: 0.7100\n",
            "Epoch 68/100\n",
            "\u001b[1m1129/1129\u001b[0m \u001b[32m━━━━━━━━━━━━━━━━━━━━\u001b[0m\u001b[37m\u001b[0m \u001b[1m6s\u001b[0m 4ms/step - Precision: 0.7279 - accuracy: 0.6909 - loss: 0.6782 - val_Precision: 0.7173 - val_accuracy: 0.6784 - val_loss: 0.7083\n",
            "Epoch 69/100\n",
            "\u001b[1m1129/1129\u001b[0m \u001b[32m━━━━━━━━━━━━━━━━━━━━\u001b[0m\u001b[37m\u001b[0m \u001b[1m3s\u001b[0m 3ms/step - Precision: 0.7302 - accuracy: 0.6909 - loss: 0.6805 - val_Precision: 0.7135 - val_accuracy: 0.6762 - val_loss: 0.7096\n",
            "Epoch 70/100\n",
            "\u001b[1m1129/1129\u001b[0m \u001b[32m━━━━━━━━━━━━━━━━━━━━\u001b[0m\u001b[37m\u001b[0m \u001b[1m5s\u001b[0m 3ms/step - Precision: 0.7256 - accuracy: 0.6876 - loss: 0.6814 - val_Precision: 0.7186 - val_accuracy: 0.6755 - val_loss: 0.7113\n",
            "Epoch 71/100\n",
            "\u001b[1m1129/1129\u001b[0m \u001b[32m━━━━━━━━━━━━━━━━━━━━\u001b[0m\u001b[37m\u001b[0m \u001b[1m5s\u001b[0m 3ms/step - Precision: 0.7311 - accuracy: 0.6924 - loss: 0.6765 - val_Precision: 0.7215 - val_accuracy: 0.6751 - val_loss: 0.7086\n",
            "Epoch 72/100\n",
            "\u001b[1m1129/1129\u001b[0m \u001b[32m━━━━━━━━━━━━━━━━━━━━\u001b[0m\u001b[37m\u001b[0m \u001b[1m3s\u001b[0m 3ms/step - Precision: 0.7316 - accuracy: 0.6924 - loss: 0.6777 - val_Precision: 0.7183 - val_accuracy: 0.6728 - val_loss: 0.7081\n",
            "Epoch 73/100\n",
            "\u001b[1m1129/1129\u001b[0m \u001b[32m━━━━━━━━━━━━━━━━━━━━\u001b[0m\u001b[37m\u001b[0m \u001b[1m3s\u001b[0m 3ms/step - Precision: 0.7302 - accuracy: 0.6933 - loss: 0.6743 - val_Precision: 0.7141 - val_accuracy: 0.6790 - val_loss: 0.7077\n",
            "Epoch 74/100\n",
            "\u001b[1m1129/1129\u001b[0m \u001b[32m━━━━━━━━━━━━━━━━━━━━\u001b[0m\u001b[37m\u001b[0m \u001b[1m4s\u001b[0m 4ms/step - Precision: 0.7310 - accuracy: 0.6931 - loss: 0.6750 - val_Precision: 0.7191 - val_accuracy: 0.6747 - val_loss: 0.7103\n",
            "Epoch 75/100\n",
            "\u001b[1m1129/1129\u001b[0m \u001b[32m━━━━━━━━━━━━━━━━━━━━\u001b[0m\u001b[37m\u001b[0m \u001b[1m4s\u001b[0m 3ms/step - Precision: 0.7304 - accuracy: 0.6925 - loss: 0.6760 - val_Precision: 0.7147 - val_accuracy: 0.6776 - val_loss: 0.7100\n",
            "Epoch 76/100\n",
            "\u001b[1m1129/1129\u001b[0m \u001b[32m━━━━━━━━━━━━━━━━━━━━\u001b[0m\u001b[37m\u001b[0m \u001b[1m5s\u001b[0m 3ms/step - Precision: 0.7285 - accuracy: 0.6904 - loss: 0.6770 - val_Precision: 0.7139 - val_accuracy: 0.6747 - val_loss: 0.7100\n",
            "Epoch 77/100\n",
            "\u001b[1m1129/1129\u001b[0m \u001b[32m━━━━━━━━━━━━━━━━━━━━\u001b[0m\u001b[37m\u001b[0m \u001b[1m5s\u001b[0m 3ms/step - Precision: 0.7278 - accuracy: 0.6894 - loss: 0.6778 - val_Precision: 0.7108 - val_accuracy: 0.6789 - val_loss: 0.7091\n",
            "Epoch 78/100\n",
            "\u001b[1m1129/1129\u001b[0m \u001b[32m━━━━━━━━━━━━━━━━━━━━\u001b[0m\u001b[37m\u001b[0m \u001b[1m3s\u001b[0m 3ms/step - Precision: 0.7315 - accuracy: 0.6926 - loss: 0.6753 - val_Precision: 0.7162 - val_accuracy: 0.6762 - val_loss: 0.7075\n",
            "Epoch 79/100\n",
            "\u001b[1m1129/1129\u001b[0m \u001b[32m━━━━━━━━━━━━━━━━━━━━\u001b[0m\u001b[37m\u001b[0m \u001b[1m4s\u001b[0m 3ms/step - Precision: 0.7286 - accuracy: 0.6906 - loss: 0.6777 - val_Precision: 0.7145 - val_accuracy: 0.6783 - val_loss: 0.7063\n",
            "Epoch 80/100\n",
            "\u001b[1m1129/1129\u001b[0m \u001b[32m━━━━━━━━━━━━━━━━━━━━\u001b[0m\u001b[37m\u001b[0m \u001b[1m5s\u001b[0m 3ms/step - Precision: 0.7297 - accuracy: 0.6925 - loss: 0.6721 - val_Precision: 0.7145 - val_accuracy: 0.6764 - val_loss: 0.7069\n",
            "Epoch 81/100\n",
            "\u001b[1m1129/1129\u001b[0m \u001b[32m━━━━━━━━━━━━━━━━━━━━\u001b[0m\u001b[37m\u001b[0m \u001b[1m5s\u001b[0m 3ms/step - Precision: 0.7293 - accuracy: 0.6921 - loss: 0.6758 - val_Precision: 0.7197 - val_accuracy: 0.6791 - val_loss: 0.7074\n",
            "Epoch 82/100\n",
            "\u001b[1m1129/1129\u001b[0m \u001b[32m━━━━━━━━━━━━━━━━━━━━\u001b[0m\u001b[37m\u001b[0m \u001b[1m4s\u001b[0m 4ms/step - Precision: 0.7322 - accuracy: 0.6945 - loss: 0.6707 - val_Precision: 0.7138 - val_accuracy: 0.6745 - val_loss: 0.7106\n",
            "Epoch 83/100\n",
            "\u001b[1m1129/1129\u001b[0m \u001b[32m━━━━━━━━━━━━━━━━━━━━\u001b[0m\u001b[37m\u001b[0m \u001b[1m4s\u001b[0m 3ms/step - Precision: 0.7304 - accuracy: 0.6946 - loss: 0.6695 - val_Precision: 0.7162 - val_accuracy: 0.6757 - val_loss: 0.7067\n",
            "Epoch 84/100\n",
            "\u001b[1m1129/1129\u001b[0m \u001b[32m━━━━━━━━━━━━━━━━━━━━\u001b[0m\u001b[37m\u001b[0m \u001b[1m5s\u001b[0m 3ms/step - Precision: 0.7314 - accuracy: 0.6960 - loss: 0.6707 - val_Precision: 0.7145 - val_accuracy: 0.6787 - val_loss: 0.7093\n",
            "Epoch 85/100\n",
            "\u001b[1m1129/1129\u001b[0m \u001b[32m━━━━━━━━━━━━━━━━━━━━\u001b[0m\u001b[37m\u001b[0m \u001b[1m5s\u001b[0m 3ms/step - Precision: 0.7276 - accuracy: 0.6905 - loss: 0.6755 - val_Precision: 0.7175 - val_accuracy: 0.6797 - val_loss: 0.7067\n",
            "Epoch 86/100\n",
            "\u001b[1m1129/1129\u001b[0m \u001b[32m━━━━━━━━━━━━━━━━━━━━\u001b[0m\u001b[37m\u001b[0m \u001b[1m4s\u001b[0m 3ms/step - Precision: 0.7331 - accuracy: 0.6959 - loss: 0.6698 - val_Precision: 0.7113 - val_accuracy: 0.6778 - val_loss: 0.7071\n",
            "Epoch 87/100\n",
            "\u001b[1m1129/1129\u001b[0m \u001b[32m━━━━━━━━━━━━━━━━━━━━\u001b[0m\u001b[37m\u001b[0m \u001b[1m6s\u001b[0m 4ms/step - Precision: 0.7293 - accuracy: 0.6928 - loss: 0.6714 - val_Precision: 0.7218 - val_accuracy: 0.6794 - val_loss: 0.7052\n",
            "Epoch 88/100\n",
            "\u001b[1m1129/1129\u001b[0m \u001b[32m━━━━━━━━━━━━━━━━━━━━\u001b[0m\u001b[37m\u001b[0m \u001b[1m5s\u001b[0m 3ms/step - Precision: 0.7315 - accuracy: 0.6962 - loss: 0.6726 - val_Precision: 0.7200 - val_accuracy: 0.6791 - val_loss: 0.7021\n",
            "Epoch 89/100\n",
            "\u001b[1m1129/1129\u001b[0m \u001b[32m━━━━━━━━━━━━━━━━━━━━\u001b[0m\u001b[37m\u001b[0m \u001b[1m5s\u001b[0m 3ms/step - Precision: 0.7323 - accuracy: 0.6959 - loss: 0.6688 - val_Precision: 0.7151 - val_accuracy: 0.6750 - val_loss: 0.7073\n",
            "Epoch 90/100\n",
            "\u001b[1m1129/1129\u001b[0m \u001b[32m━━━━━━━━━━━━━━━━━━━━\u001b[0m\u001b[37m\u001b[0m \u001b[1m5s\u001b[0m 3ms/step - Precision: 0.7300 - accuracy: 0.6928 - loss: 0.6732 - val_Precision: 0.7116 - val_accuracy: 0.6785 - val_loss: 0.7084\n",
            "Epoch 91/100\n",
            "\u001b[1m1129/1129\u001b[0m \u001b[32m━━━━━━━━━━━━━━━━━━━━\u001b[0m\u001b[37m\u001b[0m \u001b[1m4s\u001b[0m 3ms/step - Precision: 0.7287 - accuracy: 0.6938 - loss: 0.6738 - val_Precision: 0.7161 - val_accuracy: 0.6778 - val_loss: 0.7059\n",
            "Epoch 92/100\n",
            "\u001b[1m1129/1129\u001b[0m \u001b[32m━━━━━━━━━━━━━━━━━━━━\u001b[0m\u001b[37m\u001b[0m \u001b[1m4s\u001b[0m 3ms/step - Precision: 0.7295 - accuracy: 0.6928 - loss: 0.6721 - val_Precision: 0.7164 - val_accuracy: 0.6776 - val_loss: 0.7080\n",
            "Epoch 93/100\n",
            "\u001b[1m1129/1129\u001b[0m \u001b[32m━━━━━━━━━━━━━━━━━━━━\u001b[0m\u001b[37m\u001b[0m \u001b[1m5s\u001b[0m 3ms/step - Precision: 0.7331 - accuracy: 0.6963 - loss: 0.6650 - val_Precision: 0.7176 - val_accuracy: 0.6776 - val_loss: 0.7055\n",
            "Epoch 94/100\n",
            "\u001b[1m1129/1129\u001b[0m \u001b[32m━━━━━━━━━━━━━━━━━━━━\u001b[0m\u001b[37m\u001b[0m \u001b[1m5s\u001b[0m 3ms/step - Precision: 0.7309 - accuracy: 0.6936 - loss: 0.6702 - val_Precision: 0.7162 - val_accuracy: 0.6785 - val_loss: 0.7067\n",
            "Epoch 95/100\n",
            "\u001b[1m1129/1129\u001b[0m \u001b[32m━━━━━━━━━━━━━━━━━━━━\u001b[0m\u001b[37m\u001b[0m \u001b[1m4s\u001b[0m 4ms/step - Precision: 0.7308 - accuracy: 0.6931 - loss: 0.6703 - val_Precision: 0.7194 - val_accuracy: 0.6805 - val_loss: 0.7020\n",
            "Epoch 96/100\n",
            "\u001b[1m1129/1129\u001b[0m \u001b[32m━━━━━━━━━━━━━━━━━━━━\u001b[0m\u001b[37m\u001b[0m \u001b[1m3s\u001b[0m 3ms/step - Precision: 0.7289 - accuracy: 0.6929 - loss: 0.6686 - val_Precision: 0.7209 - val_accuracy: 0.6809 - val_loss: 0.7050\n",
            "Epoch 97/100\n",
            "\u001b[1m1129/1129\u001b[0m \u001b[32m━━━━━━━━━━━━━━━━━━━━\u001b[0m\u001b[37m\u001b[0m \u001b[1m5s\u001b[0m 3ms/step - Precision: 0.7307 - accuracy: 0.6959 - loss: 0.6693 - val_Precision: 0.7146 - val_accuracy: 0.6776 - val_loss: 0.7076\n",
            "Epoch 98/100\n",
            "\u001b[1m1129/1129\u001b[0m \u001b[32m━━━━━━━━━━━━━━━━━━━━\u001b[0m\u001b[37m\u001b[0m \u001b[1m4s\u001b[0m 4ms/step - Precision: 0.7347 - accuracy: 0.6986 - loss: 0.6652 - val_Precision: 0.7126 - val_accuracy: 0.6781 - val_loss: 0.7073\n",
            "Epoch 99/100\n",
            "\u001b[1m1129/1129\u001b[0m \u001b[32m━━━━━━━━━━━━━━━━━━━━\u001b[0m\u001b[37m\u001b[0m \u001b[1m4s\u001b[0m 3ms/step - Precision: 0.7317 - accuracy: 0.6952 - loss: 0.6656 - val_Precision: 0.7144 - val_accuracy: 0.6770 - val_loss: 0.7055\n",
            "Epoch 100/100\n",
            "\u001b[1m1129/1129\u001b[0m \u001b[32m━━━━━━━━━━━━━━━━━━━━\u001b[0m\u001b[37m\u001b[0m \u001b[1m5s\u001b[0m 3ms/step - Precision: 0.7338 - accuracy: 0.6969 - loss: 0.6657 - val_Precision: 0.7132 - val_accuracy: 0.6759 - val_loss: 0.7122\n"
          ]
        }
      ]
    },
    {
      "cell_type": "code",
      "source": [
        "import matplotlib.pyplot as plt\n",
        "\n",
        "# Extract accuracy and validation accuracy\n",
        "train_acc = history5.history['accuracy']\n",
        "val_acc = history5.history['val_accuracy']\n",
        "\n",
        "# Plot accuracy curves\n",
        "plt.figure(figsize=(8, 5))\n",
        "plt.plot(train_acc, label='Training Accuracy', color='blue')\n",
        "plt.plot(val_acc, label='Validation Accuracy', color='red')\n",
        "plt.xlabel('Epochs')\n",
        "plt.ylabel('Accuracy')\n",
        "plt.title('Model Accuracy over Epochs')\n",
        "plt.legend()\n",
        "plt.grid()\n",
        "plt.show()\n"
      ],
      "metadata": {
        "id": "RUuf4yFpChbJ",
        "colab": {
          "base_uri": "https://localhost:8080/",
          "height": 487
        },
        "outputId": "10f12d3e-a549-4218-f4a1-939adc99a3b4"
      },
      "id": "RUuf4yFpChbJ",
      "execution_count": 47,
      "outputs": [
        {
          "output_type": "display_data",
          "data": {
            "text/plain": [
              "<Figure size 800x500 with 1 Axes>"
            ],
            "image/png": "[encoded data removed]"
          },
          "metadata": {}
        }
      ]
    },
    {
      "cell_type": "markdown",
      "id": "7ff5f5dc",
      "metadata": {
        "id": "7ff5f5dc"
      },
      "source": [
        "----------------------------------------------\n",
        "\n",
        "$$ Wish \\space you \\space all \\space the \\space best \\space ♡ $$\n",
        "$$ Abdelrahman \\space Eid $$"
      ]
    },
    {
      "cell_type": "code",
      "source": [],
      "metadata": {
        "id": "GKPY6jy1GNbY"
      },
      "id": "GKPY6jy1GNbY",
      "execution_count": 47,
      "outputs": []
    }
  ],
  "metadata": {
    "colab": {
      "provenance": [],
      "gpuType": "T4"
    },
    "kernelspec": {
      "display_name": "Python 3",
      "name": "python3"
    },
    "language_info": {
      "codemirror_mode": {
        "name": "ipython",
        "version": 3
      },
      "file_extension": ".py",
      "mimetype": "text/x-python",
      "name": "python",
      "nbconvert_exporter": "python",
      "pygments_lexer": "ipython3",
      "version": "3.8.8"
    },
    "accelerator": "GPU"
  },
  "nbformat": 4,
  "nbformat_minor": 5
}